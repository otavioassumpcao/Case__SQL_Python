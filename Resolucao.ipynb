{
 "cells": [
  {
   "cell_type": "markdown",
   "metadata": {},
   "source": [
    "<div align=\"center\">\n",
    "\n",
    "# **Prova de Estágio - Python e SQL**\n",
    "### *Otávio Feliciano Assumpção*  \n",
    "\n",
    "##### *08 de Outubro de 2024*\n",
    "\n",
    "</div>\n",
    "\n",
    "---\n",
    "\n",
    "Este documento contém as respostas às perguntas da prova, que tem como objetivo avaliar meus conhecimentos em SQL e Python, utilizando situações práticas e complexas. Esse material está dividido em duas partes:\n",
    "\n",
    "- Na **primeira parte**, responderei às questões relacionadas a **SQL**;\n",
    "- Na **segunda parte**, abordarei as questões focadas em **Python**.\n",
    "\n",
    "Instruções técnicas sobre as versões dos pacotes utilizados e clonagem do repositório estão disponíveis no arquivo **README.md**, disponível no [repositório do GitHub](https://github.com/otavioassumpcao/Case__SQL_Python).\n",
    "\n",
    "---\n"
   ]
  },
  {
   "cell_type": "markdown",
   "metadata": {},
   "source": [
    "<div align=\"center\">\n",
    "\n",
    "## **Parte 01: SQL**\n",
    "\n",
    "</div>\n",
    "\n",
    "---\n",
    "\n",
    "Antes de começarmos de fato, faz-se necessário configurar o ambiente e preparar as bases de dados para que possamos executar as consultas em SQL diretamente no Jupyter Notebook. Nesta seção, vamos:\n",
    "\n",
    "1. Carregar as extensões necessárias para executar SQL no Jupyter;\n",
    "2. Preparar um banco de dados SQLite local e carregar os dados dos arquivos CSV nele;\n",
    "3. Estabelecer a conexão entre o Jupyter Notebook e o banco de dados SQLite para executar as consultas SQL.\n",
    "\n",
    "**1. Carregar a extensão SQL no Jupyter**"
   ]
  },
  {
   "cell_type": "code",
   "execution_count": null,
   "metadata": {},
   "outputs": [],
   "source": [
    "%load_ext sql"
   ]
  },
  {
   "cell_type": "markdown",
   "metadata": {},
   "source": [
    "Aqui, estamos carregando a extensão `sql` no Jupyter Notebook. Essa extensão é parte do pacote `ipython-sql` (também chamado de `jupysql`).\n",
    "\n",
    "**2. Importar bibliotecas e preparar os dados**"
   ]
  },
  {
   "cell_type": "code",
   "execution_count": 45,
   "metadata": {},
   "outputs": [],
   "source": [
    "# Importando pacotes\n",
    "import pandas as pd\n",
    "import sqlite3\n",
    "\n",
    "# Carregando os arquivos CSV\n",
    "clientes = pd.read_csv('Bases/clientes.csv')\n",
    "vendas = pd.read_csv('Bases/vendas.csv')\n",
    "\n",
    "# Conectando ao banco de dados SQLite e criando o arquivo\n",
    "conn = sqlite3.connect('clientes_vendas.db') # Aqui o arquivo clientes_vendas.db é criado\n",
    "clientes.to_sql('clientes', conn, if_exists='replace', index=False)\n",
    "vendas.to_sql('vendas', conn, if_exists='replace', index=False)\n",
    "conn.close()\n"
   ]
  },
  {
   "cell_type": "markdown",
   "metadata": {},
   "source": [
    "**Importando as bibliotecas**:\n",
    "- `pandas`: Para carregar e manipular os dados dos arquivos CSV.\n",
    "- `sqlite3`: Para interagir com um banco de dados SQLite.\n",
    "\n",
    "**Carregando os arquivos CSV**:\n",
    "- Os arquivos `clientes.csv` e `vendas.csv` são carregados como DataFrames utilizando o pandas.\n",
    "\n",
    "**Criando o banco de dados SQLite**:\n",
    "- Uma conexão é criada com o banco de dados SQLite utilizando ``sqlite3.connect()``. O banco de dados será salvo no arquivo `clientes_vendas.db`.\n",
    "- Utiliza o método `to_sql()` para transferir os dados dos DataFrames para o banco de dados, criando as tabelas clientes e vendas.\n",
    "- Fecha a conexão com o banco de dados para garantir que todas as operações foram finalizadas corretamente.\n",
    "\n",
    "**3. Conectar o Jupyter ao banco de dados SQLite**"
   ]
  },
  {
   "cell_type": "code",
   "execution_count": 46,
   "metadata": {},
   "outputs": [],
   "source": [
    "%sql sqlite:///clientes_vendas.db\n"
   ]
  },
  {
   "cell_type": "markdown",
   "metadata": {},
   "source": [
    "Estabelecemos a conexão entre o ambiente do Jupyter Notebook e o banco de dados SQLite que foi criado anteriormente. Ao usar o comando `%sql`, informamos ao Jupyter que queremos executar comandos SQL e fazer a conexão com o banco de dados `clientes_vendas.db`.\n",
    "\n",
    "Agora sim, podemos partir para a resolução!\n",
    "\n",
    "---"
   ]
  },
  {
   "cell_type": "markdown",
   "metadata": {},
   "source": [
    "#### **Dando uma olhada nos DataFrames**\n"
   ]
  },
  {
   "cell_type": "code",
   "execution_count": 47,
   "metadata": {
    "vscode": {
     "languageId": "sql"
    }
   },
   "outputs": [
    {
     "data": {
      "text/html": [
       "<table>\n",
       "    <thead>\n",
       "        <tr>\n",
       "            <th>id_cliente</th>\n",
       "            <th>nome_cliente</th>\n",
       "            <th>cidade</th>\n",
       "        </tr>\n",
       "    </thead>\n",
       "    <tbody>\n",
       "        <tr>\n",
       "            <td>1</td>\n",
       "            <td>João Souza</td>\n",
       "            <td>Rio de Janeiro</td>\n",
       "        </tr>\n",
       "        <tr>\n",
       "            <td>2</td>\n",
       "            <td>Ana Costa</td>\n",
       "            <td>São Paulo</td>\n",
       "        </tr>\n",
       "        <tr>\n",
       "            <td>3</td>\n",
       "            <td>Carlos Lima</td>\n",
       "            <td>Belo Horizonte</td>\n",
       "        </tr>\n",
       "    </tbody>\n",
       "</table>"
      ],
      "text/plain": [
       "+------------+--------------+----------------+\n",
       "| id_cliente | nome_cliente |     cidade     |\n",
       "+------------+--------------+----------------+\n",
       "|     1      |  João Souza  | Rio de Janeiro |\n",
       "|     2      |  Ana Costa   |   São Paulo    |\n",
       "|     3      | Carlos Lima  | Belo Horizonte |\n",
       "+------------+--------------+----------------+"
      ]
     },
     "execution_count": 47,
     "metadata": {},
     "output_type": "execute_result"
    }
   ],
   "source": [
    "%%sql\n",
    "\n",
    "-- Query para listar todos os clientes\n",
    "SELECT * FROM clientes;"
   ]
  },
  {
   "cell_type": "code",
   "execution_count": 48,
   "metadata": {
    "vscode": {
     "languageId": "sql"
    }
   },
   "outputs": [
    {
     "data": {
      "text/html": [
       "<table>\n",
       "    <thead>\n",
       "        <tr>\n",
       "            <th>id_venda</th>\n",
       "            <th>id_cliente</th>\n",
       "            <th>data_venda</th>\n",
       "            <th>valor_total</th>\n",
       "        </tr>\n",
       "    </thead>\n",
       "    <tbody>\n",
       "        <tr>\n",
       "            <td>1</td>\n",
       "            <td>1</td>\n",
       "            <td>2023-05-10</td>\n",
       "            <td>200</td>\n",
       "        </tr>\n",
       "        <tr>\n",
       "            <td>2</td>\n",
       "            <td>2</td>\n",
       "            <td>2023-06-12</td>\n",
       "            <td>450</td>\n",
       "        </tr>\n",
       "        <tr>\n",
       "            <td>3</td>\n",
       "            <td>1</td>\n",
       "            <td>2023-07-22</td>\n",
       "            <td>130</td>\n",
       "        </tr>\n",
       "        <tr>\n",
       "            <td>4</td>\n",
       "            <td>3</td>\n",
       "            <td>2023-08-15</td>\n",
       "            <td>500</td>\n",
       "        </tr>\n",
       "        <tr>\n",
       "            <td>5</td>\n",
       "            <td>2</td>\n",
       "            <td>2023-09-05</td>\n",
       "            <td>670</td>\n",
       "        </tr>\n",
       "    </tbody>\n",
       "</table>"
      ],
      "text/plain": [
       "+----------+------------+------------+-------------+\n",
       "| id_venda | id_cliente | data_venda | valor_total |\n",
       "+----------+------------+------------+-------------+\n",
       "|    1     |     1      | 2023-05-10 |     200     |\n",
       "|    2     |     2      | 2023-06-12 |     450     |\n",
       "|    3     |     1      | 2023-07-22 |     130     |\n",
       "|    4     |     3      | 2023-08-15 |     500     |\n",
       "|    5     |     2      | 2023-09-05 |     670     |\n",
       "+----------+------------+------------+-------------+"
      ]
     },
     "execution_count": 48,
     "metadata": {},
     "output_type": "execute_result"
    }
   ],
   "source": [
    "%%sql\n",
    "\n",
    "-- Query para listar todas as vendas\n",
    "SELECT * FROM vendas;"
   ]
  },
  {
   "cell_type": "markdown",
   "metadata": {},
   "source": [
    "---\n",
    "\n",
    "#### **Questão 01. `SELECT` básico com filtro:**  \n",
    "*Retorne o nome dos clientes e o valor total de suas vendas realizadas em 2023, utilizando `JOIN` e `WHERE`.*\n"
   ]
  },
  {
   "cell_type": "code",
   "execution_count": 49,
   "metadata": {
    "vscode": {
     "languageId": "sql"
    }
   },
   "outputs": [
    {
     "data": {
      "text/html": [
       "<table>\n",
       "    <thead>\n",
       "        <tr>\n",
       "            <th>nome_cliente</th>\n",
       "            <th>total_vendas</th>\n",
       "        </tr>\n",
       "    </thead>\n",
       "    <tbody>\n",
       "        <tr>\n",
       "            <td>Ana Costa</td>\n",
       "            <td>1120</td>\n",
       "        </tr>\n",
       "        <tr>\n",
       "            <td>Carlos Lima</td>\n",
       "            <td>500</td>\n",
       "        </tr>\n",
       "        <tr>\n",
       "            <td>João Souza</td>\n",
       "            <td>330</td>\n",
       "        </tr>\n",
       "    </tbody>\n",
       "</table>"
      ],
      "text/plain": [
       "+--------------+--------------+\n",
       "| nome_cliente | total_vendas |\n",
       "+--------------+--------------+\n",
       "|  Ana Costa   |     1120     |\n",
       "| Carlos Lima  |     500      |\n",
       "|  João Souza  |     330      |\n",
       "+--------------+--------------+"
      ]
     },
     "execution_count": 49,
     "metadata": {},
     "output_type": "execute_result"
    }
   ],
   "source": [
    "%%sql\n",
    "\n",
    "-- Seleciona o nome dos clientes e o valor total das vendas de 2023\n",
    "SELECT clientes.nome_cliente, SUM(vendas.valor_total) AS total_vendas\n",
    "\n",
    "-- As tabelas 'clientes' e 'vendas' são combinadas usando JOIN\n",
    "FROM clientes\n",
    "JOIN vendas ON clientes.id_cliente = vendas.id_cliente\n",
    "\n",
    "-- Filtra as vendas realizadas apenas entre 1º de janeiro e 31 de dezembro de 2023\n",
    "WHERE vendas.data_venda BETWEEN '2023-01-01' AND '2023-12-31'\n",
    "\n",
    "-- Agrupa os resultados por cliente, somando as vendas de cada cliente\n",
    "GROUP BY clientes.nome_cliente;\n"
   ]
  },
  {
   "cell_type": "markdown",
   "metadata": {},
   "source": [
    "#### **Questão 02. `JOIN` + `GROUP BY`:**  \n",
    "*Retorne o total de vendas por cidade, agrupando os dados e ordenando o resultado pelo total de vendas em ordem decrescente.*"
   ]
  },
  {
   "cell_type": "code",
   "execution_count": 50,
   "metadata": {
    "vscode": {
     "languageId": "sql"
    }
   },
   "outputs": [
    {
     "data": {
      "text/html": [
       "<table>\n",
       "    <thead>\n",
       "        <tr>\n",
       "            <th>cidade</th>\n",
       "            <th>total_vendas</th>\n",
       "        </tr>\n",
       "    </thead>\n",
       "    <tbody>\n",
       "        <tr>\n",
       "            <td>São Paulo</td>\n",
       "            <td>1120</td>\n",
       "        </tr>\n",
       "        <tr>\n",
       "            <td>Belo Horizonte</td>\n",
       "            <td>500</td>\n",
       "        </tr>\n",
       "        <tr>\n",
       "            <td>Rio de Janeiro</td>\n",
       "            <td>330</td>\n",
       "        </tr>\n",
       "    </tbody>\n",
       "</table>"
      ],
      "text/plain": [
       "+----------------+--------------+\n",
       "|     cidade     | total_vendas |\n",
       "+----------------+--------------+\n",
       "|   São Paulo    |     1120     |\n",
       "| Belo Horizonte |     500      |\n",
       "| Rio de Janeiro |     330      |\n",
       "+----------------+--------------+"
      ]
     },
     "execution_count": 50,
     "metadata": {},
     "output_type": "execute_result"
    }
   ],
   "source": [
    "%%sql\n",
    "\n",
    "-- Seleciona a cidade dos clientes e o valor total das vendas em cada cidade\n",
    "SELECT clientes.cidade, SUM(vendas.valor_total) AS total_vendas\n",
    "\n",
    "-- Faz o JOIN entre as tabelas clientes e vendas, com base no id_cliente\n",
    "FROM clientes\n",
    "JOIN vendas ON clientes.id_cliente = vendas.id_cliente\n",
    "\n",
    "-- Agrupa os resultados por cidade, somando as vendas\n",
    "GROUP BY clientes.cidade\n",
    "\n",
    "-- Ordena os resultados pelo valor total das vendas em ordem decrescente\n",
    "ORDER BY total_vendas DESC;"
   ]
  },
  {
   "cell_type": "markdown",
   "metadata": {},
   "source": [
    "#### **Questão 03.  `INSERT` e `UPDATE`:**\n",
    "*Insira um novo cliente e uma nova venda associada a ele, e depois faça um `UPDATE` para alterar o valor de uma venda existente*\n",
    "\n",
    "1. **Inserindo um novo cliente**\\\n",
    "    *(sem risco de duplicação)*"
   ]
  },
  {
   "cell_type": "code",
   "execution_count": 51,
   "metadata": {
    "vscode": {
     "languageId": "sql"
    }
   },
   "outputs": [
    {
     "data": {
      "text/html": [
       "<table>\n",
       "    <thead>\n",
       "        <tr>\n",
       "            <th>id_cliente</th>\n",
       "            <th>nome_cliente</th>\n",
       "            <th>cidade</th>\n",
       "        </tr>\n",
       "    </thead>\n",
       "    <tbody>\n",
       "        <tr>\n",
       "            <td>1</td>\n",
       "            <td>João Souza</td>\n",
       "            <td>Rio de Janeiro</td>\n",
       "        </tr>\n",
       "        <tr>\n",
       "            <td>2</td>\n",
       "            <td>Ana Costa</td>\n",
       "            <td>São Paulo</td>\n",
       "        </tr>\n",
       "        <tr>\n",
       "            <td>3</td>\n",
       "            <td>Carlos Lima</td>\n",
       "            <td>Belo Horizonte</td>\n",
       "        </tr>\n",
       "        <tr>\n",
       "            <td>4</td>\n",
       "            <td>Otávio Assumpção</td>\n",
       "            <td>Campo Grande</td>\n",
       "        </tr>\n",
       "    </tbody>\n",
       "</table>"
      ],
      "text/plain": [
       "+------------+------------------+----------------+\n",
       "| id_cliente |   nome_cliente   |     cidade     |\n",
       "+------------+------------------+----------------+\n",
       "|     1      |    João Souza    | Rio de Janeiro |\n",
       "|     2      |    Ana Costa     |   São Paulo    |\n",
       "|     3      |   Carlos Lima    | Belo Horizonte |\n",
       "|     4      | Otávio Assumpção |  Campo Grande  |\n",
       "+------------+------------------+----------------+"
      ]
     },
     "execution_count": 51,
     "metadata": {},
     "output_type": "execute_result"
    }
   ],
   "source": [
    "%%sql\n",
    "\n",
    "-- Insere o cliente somente se ele não estiver registrado, caso contrário, não faz nada \n",
    "-- (não corre o riso de duplicar um cliente)\n",
    "\n",
    "INSERT INTO clientes (id_cliente, nome_cliente, cidade)\n",
    "SELECT 4, 'Otávio Assumpção', 'Campo Grande'\n",
    "WHERE NOT EXISTS (\n",
    "    SELECT 1 FROM clientes WHERE id_cliente = 4\n",
    ");\n",
    "\n",
    "-- Visualizando \n",
    "SELECT * FROM clientes;"
   ]
  },
  {
   "cell_type": "markdown",
   "metadata": {},
   "source": [
    "2. **Inserindo uma data de compra para o novo cliente**\\\n",
    "    *(sem risco de duplicação de registro da compra)*"
   ]
  },
  {
   "cell_type": "code",
   "execution_count": 52,
   "metadata": {
    "vscode": {
     "languageId": "sql"
    }
   },
   "outputs": [
    {
     "data": {
      "text/html": [
       "<table>\n",
       "    <thead>\n",
       "        <tr>\n",
       "            <th>id_venda</th>\n",
       "            <th>id_cliente</th>\n",
       "            <th>data_venda</th>\n",
       "            <th>valor_total</th>\n",
       "        </tr>\n",
       "    </thead>\n",
       "    <tbody>\n",
       "        <tr>\n",
       "            <td>1</td>\n",
       "            <td>1</td>\n",
       "            <td>2023-05-10</td>\n",
       "            <td>200</td>\n",
       "        </tr>\n",
       "        <tr>\n",
       "            <td>2</td>\n",
       "            <td>2</td>\n",
       "            <td>2023-06-12</td>\n",
       "            <td>450</td>\n",
       "        </tr>\n",
       "        <tr>\n",
       "            <td>3</td>\n",
       "            <td>1</td>\n",
       "            <td>2023-07-22</td>\n",
       "            <td>130</td>\n",
       "        </tr>\n",
       "        <tr>\n",
       "            <td>4</td>\n",
       "            <td>3</td>\n",
       "            <td>2023-08-15</td>\n",
       "            <td>500</td>\n",
       "        </tr>\n",
       "        <tr>\n",
       "            <td>5</td>\n",
       "            <td>2</td>\n",
       "            <td>2023-09-05</td>\n",
       "            <td>670</td>\n",
       "        </tr>\n",
       "        <tr>\n",
       "            <td>6</td>\n",
       "            <td>4</td>\n",
       "            <td>2024-01-10</td>\n",
       "            <td>280</td>\n",
       "        </tr>\n",
       "    </tbody>\n",
       "</table>"
      ],
      "text/plain": [
       "+----------+------------+------------+-------------+\n",
       "| id_venda | id_cliente | data_venda | valor_total |\n",
       "+----------+------------+------------+-------------+\n",
       "|    1     |     1      | 2023-05-10 |     200     |\n",
       "|    2     |     2      | 2023-06-12 |     450     |\n",
       "|    3     |     1      | 2023-07-22 |     130     |\n",
       "|    4     |     3      | 2023-08-15 |     500     |\n",
       "|    5     |     2      | 2023-09-05 |     670     |\n",
       "|    6     |     4      | 2024-01-10 |     280     |\n",
       "+----------+------------+------------+-------------+"
      ]
     },
     "execution_count": 52,
     "metadata": {},
     "output_type": "execute_result"
    }
   ],
   "source": [
    "%%sql\n",
    "\n",
    "-- Insere uma nova venda para o cliente 4 apenas se o id_venda não existir\n",
    "-- Dessa forma, não corremos o risco de registrar a mesma venda mais de uma vez\n",
    "INSERT INTO vendas (id_venda, id_cliente, valor_total, data_venda)\n",
    "SELECT 6, 4, 280.00, '2024-01-10'\n",
    "WHERE NOT EXISTS (\n",
    "    SELECT 1 FROM vendas WHERE id_venda = 6\n",
    ");\n",
    "\n",
    "-- Visualizando\n",
    "SELECT * FROM vendas;"
   ]
  },
  {
   "cell_type": "markdown",
   "metadata": {},
   "source": [
    "3. **Alterando o valor de uma venda existente**\\\n",
    "    *(A venda 6 vai de 280 para 380)*"
   ]
  },
  {
   "cell_type": "code",
   "execution_count": 37,
   "metadata": {
    "vscode": {
     "languageId": "sql"
    }
   },
   "outputs": [
    {
     "data": {
      "text/html": [
       "<table>\n",
       "    <thead>\n",
       "        <tr>\n",
       "            <th>id_venda</th>\n",
       "            <th>id_cliente</th>\n",
       "            <th>data_venda</th>\n",
       "            <th>valor_total</th>\n",
       "        </tr>\n",
       "    </thead>\n",
       "    <tbody>\n",
       "        <tr>\n",
       "            <td>1</td>\n",
       "            <td>1</td>\n",
       "            <td>2023-05-10</td>\n",
       "            <td>200</td>\n",
       "        </tr>\n",
       "        <tr>\n",
       "            <td>2</td>\n",
       "            <td>2</td>\n",
       "            <td>2023-06-12</td>\n",
       "            <td>450</td>\n",
       "        </tr>\n",
       "        <tr>\n",
       "            <td>3</td>\n",
       "            <td>1</td>\n",
       "            <td>2023-07-22</td>\n",
       "            <td>130</td>\n",
       "        </tr>\n",
       "        <tr>\n",
       "            <td>4</td>\n",
       "            <td>3</td>\n",
       "            <td>2023-08-15</td>\n",
       "            <td>500</td>\n",
       "        </tr>\n",
       "        <tr>\n",
       "            <td>5</td>\n",
       "            <td>2</td>\n",
       "            <td>2023-09-05</td>\n",
       "            <td>670</td>\n",
       "        </tr>\n",
       "        <tr>\n",
       "            <td>6</td>\n",
       "            <td>4</td>\n",
       "            <td>2024-01-10</td>\n",
       "            <td>380</td>\n",
       "        </tr>\n",
       "    </tbody>\n",
       "</table>"
      ],
      "text/plain": [
       "+----------+------------+------------+-------------+\n",
       "| id_venda | id_cliente | data_venda | valor_total |\n",
       "+----------+------------+------------+-------------+\n",
       "|    1     |     1      | 2023-05-10 |     200     |\n",
       "|    2     |     2      | 2023-06-12 |     450     |\n",
       "|    3     |     1      | 2023-07-22 |     130     |\n",
       "|    4     |     3      | 2023-08-15 |     500     |\n",
       "|    5     |     2      | 2023-09-05 |     670     |\n",
       "|    6     |     4      | 2024-01-10 |     380     |\n",
       "+----------+------------+------------+-------------+"
      ]
     },
     "execution_count": 37,
     "metadata": {},
     "output_type": "execute_result"
    }
   ],
   "source": [
    "%%sql\n",
    "\n",
    "-- Atualiza o valor total da venda com id_venda 6 para 380\n",
    "UPDATE vendas\n",
    "SET valor_total = 380\n",
    "WHERE id_venda = 6;\n",
    "\n",
    "-- Visualizando\n",
    "SELECT * FROM vendas;"
   ]
  },
  {
   "cell_type": "markdown",
   "metadata": {},
   "source": [
    "#### **Questão 04.   `DISTINCT` e `GROUP BY`:**\n",
    "*Retorne a lista de cidades distintas com clientes que fizeram mais de uma venda*"
   ]
  },
  {
   "cell_type": "code",
   "execution_count": 53,
   "metadata": {
    "vscode": {
     "languageId": "sql"
    }
   },
   "outputs": [
    {
     "data": {
      "text/html": [
       "<table>\n",
       "    <thead>\n",
       "        <tr>\n",
       "            <th>cidade</th>\n",
       "        </tr>\n",
       "    </thead>\n",
       "    <tbody>\n",
       "        <tr>\n",
       "            <td>Rio de Janeiro</td>\n",
       "        </tr>\n",
       "        <tr>\n",
       "            <td>São Paulo</td>\n",
       "        </tr>\n",
       "    </tbody>\n",
       "</table>"
      ],
      "text/plain": [
       "+----------------+\n",
       "|     cidade     |\n",
       "+----------------+\n",
       "| Rio de Janeiro |\n",
       "|   São Paulo    |\n",
       "+----------------+"
      ]
     },
     "execution_count": 53,
     "metadata": {},
     "output_type": "execute_result"
    }
   ],
   "source": [
    "%%sql\n",
    "\n",
    "-- Retorna as cidades distintas com clientes que fizeram mais de uma venda\n",
    "SELECT DISTINCT clientes.cidade\n",
    "FROM clientes\n",
    "JOIN vendas ON clientes.id_cliente = vendas.id_cliente\n",
    "GROUP BY clientes.id_cliente, clientes.cidade\n",
    "HAVING COUNT(vendas.id_venda) > 1;"
   ]
  },
  {
   "cell_type": "markdown",
   "metadata": {},
   "source": [
    "---\n",
    "\n",
    "<div align=\"center\">\n",
    "\n",
    "## **Parte 02: Python com Pandas e Conceitos**\n",
    "\n",
    "</div>\n",
    "\n",
    "---\n",
    "\n",
    "#### **Questão 01. DataFrames e Pandas :**\n",
    "*A partir de um dicionário de dados brutos de vendas, crie um DataFrame e exiba as 5 primeiras linhas.*"
   ]
  },
  {
   "cell_type": "code",
   "execution_count": 69,
   "metadata": {},
   "outputs": [
    {
     "data": {
      "text/html": [
       "<div>\n",
       "<style scoped>\n",
       "    .dataframe tbody tr th:only-of-type {\n",
       "        vertical-align: middle;\n",
       "    }\n",
       "\n",
       "    .dataframe tbody tr th {\n",
       "        vertical-align: top;\n",
       "    }\n",
       "\n",
       "    .dataframe thead th {\n",
       "        text-align: right;\n",
       "    }\n",
       "</style>\n",
       "<table border=\"1\" class=\"dataframe\">\n",
       "  <thead>\n",
       "    <tr style=\"text-align: right;\">\n",
       "      <th></th>\n",
       "      <th>id_venda</th>\n",
       "      <th>id_cliente</th>\n",
       "      <th>data_venda</th>\n",
       "      <th>valor_total</th>\n",
       "    </tr>\n",
       "  </thead>\n",
       "  <tbody>\n",
       "    <tr>\n",
       "      <th>0</th>\n",
       "      <td>1</td>\n",
       "      <td>1</td>\n",
       "      <td>2023-05-10</td>\n",
       "      <td>200</td>\n",
       "    </tr>\n",
       "    <tr>\n",
       "      <th>1</th>\n",
       "      <td>2</td>\n",
       "      <td>2</td>\n",
       "      <td>2023-06-12</td>\n",
       "      <td>450</td>\n",
       "    </tr>\n",
       "    <tr>\n",
       "      <th>2</th>\n",
       "      <td>3</td>\n",
       "      <td>1</td>\n",
       "      <td>2023-07-22</td>\n",
       "      <td>130</td>\n",
       "    </tr>\n",
       "    <tr>\n",
       "      <th>3</th>\n",
       "      <td>4</td>\n",
       "      <td>3</td>\n",
       "      <td>2023-08-15</td>\n",
       "      <td>500</td>\n",
       "    </tr>\n",
       "    <tr>\n",
       "      <th>4</th>\n",
       "      <td>5</td>\n",
       "      <td>2</td>\n",
       "      <td>2023-09-05</td>\n",
       "      <td>670</td>\n",
       "    </tr>\n",
       "  </tbody>\n",
       "</table>\n",
       "</div>"
      ],
      "text/plain": [
       "   id_venda  id_cliente  data_venda  valor_total\n",
       "0         1           1  2023-05-10          200\n",
       "1         2           2  2023-06-12          450\n",
       "2         3           1  2023-07-22          130\n",
       "3         4           3  2023-08-15          500\n",
       "4         5           2  2023-09-05          670"
      ]
     },
     "execution_count": 69,
     "metadata": {},
     "output_type": "execute_result"
    }
   ],
   "source": [
    "import pandas as pd # Já háviamos importando anteriormente, apenas para reforçar\n",
    "\n",
    "df_vendas = pd.read_csv('Bases/vendas.csv') # Função read.csv() já retona como DataFrame\n",
    "df_clientes = pd.read_csv('Bases/clientes.csv') # Vamos utilizar essa base nos próximos itens\n",
    "\n",
    "# Exibir as 5 primeiras linhas do DataFrame de vendas\n",
    "df_vendas.head() # .head() retorna os 5 primeiros por default\n"
   ]
  },
  {
   "cell_type": "markdown",
   "metadata": {},
   "source": [
    "#### **Questão 02. Filtros em DataFrames:**\n",
    "*Filtre o DataFrame para mostrar apenas vendas acima de 300 reais.*"
   ]
  },
  {
   "cell_type": "code",
   "execution_count": 70,
   "metadata": {},
   "outputs": [
    {
     "data": {
      "text/html": [
       "<div>\n",
       "<style scoped>\n",
       "    .dataframe tbody tr th:only-of-type {\n",
       "        vertical-align: middle;\n",
       "    }\n",
       "\n",
       "    .dataframe tbody tr th {\n",
       "        vertical-align: top;\n",
       "    }\n",
       "\n",
       "    .dataframe thead th {\n",
       "        text-align: right;\n",
       "    }\n",
       "</style>\n",
       "<table border=\"1\" class=\"dataframe\">\n",
       "  <thead>\n",
       "    <tr style=\"text-align: right;\">\n",
       "      <th></th>\n",
       "      <th>id_venda</th>\n",
       "      <th>id_cliente</th>\n",
       "      <th>data_venda</th>\n",
       "      <th>valor_total</th>\n",
       "    </tr>\n",
       "  </thead>\n",
       "  <tbody>\n",
       "    <tr>\n",
       "      <th>1</th>\n",
       "      <td>2</td>\n",
       "      <td>2</td>\n",
       "      <td>2023-06-12</td>\n",
       "      <td>450</td>\n",
       "    </tr>\n",
       "    <tr>\n",
       "      <th>3</th>\n",
       "      <td>4</td>\n",
       "      <td>3</td>\n",
       "      <td>2023-08-15</td>\n",
       "      <td>500</td>\n",
       "    </tr>\n",
       "    <tr>\n",
       "      <th>4</th>\n",
       "      <td>5</td>\n",
       "      <td>2</td>\n",
       "      <td>2023-09-05</td>\n",
       "      <td>670</td>\n",
       "    </tr>\n",
       "  </tbody>\n",
       "</table>\n",
       "</div>"
      ],
      "text/plain": [
       "   id_venda  id_cliente  data_venda  valor_total\n",
       "1         2           2  2023-06-12          450\n",
       "3         4           3  2023-08-15          500\n",
       "4         5           2  2023-09-05          670"
      ]
     },
     "execution_count": 70,
     "metadata": {},
     "output_type": "execute_result"
    }
   ],
   "source": [
    "# Sem criar um novo df e sem editar o df original\n",
    "df_vendas[df_vendas['valor_total'] > 300]"
   ]
  },
  {
   "cell_type": "code",
   "execution_count": 71,
   "metadata": {},
   "outputs": [
    {
     "data": {
      "text/html": [
       "<div>\n",
       "<style scoped>\n",
       "    .dataframe tbody tr th:only-of-type {\n",
       "        vertical-align: middle;\n",
       "    }\n",
       "\n",
       "    .dataframe tbody tr th {\n",
       "        vertical-align: top;\n",
       "    }\n",
       "\n",
       "    .dataframe thead th {\n",
       "        text-align: right;\n",
       "    }\n",
       "</style>\n",
       "<table border=\"1\" class=\"dataframe\">\n",
       "  <thead>\n",
       "    <tr style=\"text-align: right;\">\n",
       "      <th></th>\n",
       "      <th>id_venda</th>\n",
       "      <th>id_cliente</th>\n",
       "      <th>data_venda</th>\n",
       "      <th>valor_total</th>\n",
       "    </tr>\n",
       "  </thead>\n",
       "  <tbody>\n",
       "    <tr>\n",
       "      <th>0</th>\n",
       "      <td>1</td>\n",
       "      <td>1</td>\n",
       "      <td>2023-05-10</td>\n",
       "      <td>200</td>\n",
       "    </tr>\n",
       "    <tr>\n",
       "      <th>1</th>\n",
       "      <td>2</td>\n",
       "      <td>2</td>\n",
       "      <td>2023-06-12</td>\n",
       "      <td>450</td>\n",
       "    </tr>\n",
       "    <tr>\n",
       "      <th>2</th>\n",
       "      <td>3</td>\n",
       "      <td>1</td>\n",
       "      <td>2023-07-22</td>\n",
       "      <td>130</td>\n",
       "    </tr>\n",
       "    <tr>\n",
       "      <th>3</th>\n",
       "      <td>4</td>\n",
       "      <td>3</td>\n",
       "      <td>2023-08-15</td>\n",
       "      <td>500</td>\n",
       "    </tr>\n",
       "    <tr>\n",
       "      <th>4</th>\n",
       "      <td>5</td>\n",
       "      <td>2</td>\n",
       "      <td>2023-09-05</td>\n",
       "      <td>670</td>\n",
       "    </tr>\n",
       "  </tbody>\n",
       "</table>\n",
       "</div>"
      ],
      "text/plain": [
       "   id_venda  id_cliente  data_venda  valor_total\n",
       "0         1           1  2023-05-10          200\n",
       "1         2           2  2023-06-12          450\n",
       "2         3           1  2023-07-22          130\n",
       "3         4           3  2023-08-15          500\n",
       "4         5           2  2023-09-05          670"
      ]
     },
     "execution_count": 71,
     "metadata": {},
     "output_type": "execute_result"
    }
   ],
   "source": [
    "# Como podemos ver, o df original não foi alterado\n",
    "df_vendas"
   ]
  },
  {
   "cell_type": "markdown",
   "metadata": {},
   "source": [
    "#### **Questão 03. groupby em Pandas:**\n",
    "*Agrupe os dados pelo id_cliente e calcule o total de vendas por cliente.*"
   ]
  },
  {
   "cell_type": "code",
   "execution_count": 72,
   "metadata": {},
   "outputs": [
    {
     "data": {
      "text/html": [
       "<div>\n",
       "<style scoped>\n",
       "    .dataframe tbody tr th:only-of-type {\n",
       "        vertical-align: middle;\n",
       "    }\n",
       "\n",
       "    .dataframe tbody tr th {\n",
       "        vertical-align: top;\n",
       "    }\n",
       "\n",
       "    .dataframe thead th {\n",
       "        text-align: right;\n",
       "    }\n",
       "</style>\n",
       "<table border=\"1\" class=\"dataframe\">\n",
       "  <thead>\n",
       "    <tr style=\"text-align: right;\">\n",
       "      <th></th>\n",
       "      <th>id_cliente</th>\n",
       "      <th>nome_cliente</th>\n",
       "      <th>cidade</th>\n",
       "    </tr>\n",
       "  </thead>\n",
       "  <tbody>\n",
       "    <tr>\n",
       "      <th>0</th>\n",
       "      <td>1</td>\n",
       "      <td>João Souza</td>\n",
       "      <td>Rio de Janeiro</td>\n",
       "    </tr>\n",
       "    <tr>\n",
       "      <th>1</th>\n",
       "      <td>2</td>\n",
       "      <td>Ana Costa</td>\n",
       "      <td>São Paulo</td>\n",
       "    </tr>\n",
       "    <tr>\n",
       "      <th>2</th>\n",
       "      <td>3</td>\n",
       "      <td>Carlos Lima</td>\n",
       "      <td>Belo Horizonte</td>\n",
       "    </tr>\n",
       "  </tbody>\n",
       "</table>\n",
       "</div>"
      ],
      "text/plain": [
       "   id_cliente nome_cliente          cidade\n",
       "0           1   João Souza  Rio de Janeiro\n",
       "1           2    Ana Costa       São Paulo\n",
       "2           3  Carlos Lima  Belo Horizonte"
      ]
     },
     "execution_count": 72,
     "metadata": {},
     "output_type": "execute_result"
    }
   ],
   "source": [
    "# Dando uma olhada no df dos clientes (o mesmo que utilizamos nas questões de SQL)\n",
    "\n",
    "df_clientes"
   ]
  },
  {
   "cell_type": "markdown",
   "metadata": {},
   "source": [
    "Aqui optei por criar novos DataFrames ao invés de simplesmente filtrar para ser possível adicionar novas informações, o que será útil para o próximo ítem."
   ]
  },
  {
   "cell_type": "code",
   "execution_count": 73,
   "metadata": {},
   "outputs": [
    {
     "data": {
      "text/html": [
       "<div>\n",
       "<style scoped>\n",
       "    .dataframe tbody tr th:only-of-type {\n",
       "        vertical-align: middle;\n",
       "    }\n",
       "\n",
       "    .dataframe tbody tr th {\n",
       "        vertical-align: top;\n",
       "    }\n",
       "\n",
       "    .dataframe thead th {\n",
       "        text-align: right;\n",
       "    }\n",
       "</style>\n",
       "<table border=\"1\" class=\"dataframe\">\n",
       "  <thead>\n",
       "    <tr style=\"text-align: right;\">\n",
       "      <th></th>\n",
       "      <th>id_cliente</th>\n",
       "      <th>nome_cliente</th>\n",
       "      <th>valor_total</th>\n",
       "    </tr>\n",
       "  </thead>\n",
       "  <tbody>\n",
       "    <tr>\n",
       "      <th>0</th>\n",
       "      <td>1</td>\n",
       "      <td>João Souza</td>\n",
       "      <td>330</td>\n",
       "    </tr>\n",
       "    <tr>\n",
       "      <th>1</th>\n",
       "      <td>2</td>\n",
       "      <td>Ana Costa</td>\n",
       "      <td>1120</td>\n",
       "    </tr>\n",
       "    <tr>\n",
       "      <th>2</th>\n",
       "      <td>3</td>\n",
       "      <td>Carlos Lima</td>\n",
       "      <td>500</td>\n",
       "    </tr>\n",
       "  </tbody>\n",
       "</table>\n",
       "</div>"
      ],
      "text/plain": [
       "   id_cliente nome_cliente  valor_total\n",
       "0           1   João Souza          330\n",
       "1           2    Ana Costa         1120\n",
       "2           3  Carlos Lima          500"
      ]
     },
     "execution_count": 73,
     "metadata": {},
     "output_type": "execute_result"
    }
   ],
   "source": [
    "# Criando um df novo (df_master) que compila todas as informações num lugar só (registra todas as operações de venda com todas as variáveis associadas a cada uma delas, vamos utilizar posteriormente para salvar os novos inputs).\n",
    "df_master = pd.merge(df_vendas, df_clientes, on='id_cliente')\n",
    "\n",
    "# Criando outro df (df_total_clientes) que mostra o total em compras de cada cliente.\n",
    "df_total_cliente = df_master.groupby(['id_cliente', 'nome_cliente'])['valor_total'].sum().reset_index()\n",
    "df_total_cliente"
   ]
  },
  {
   "cell_type": "markdown",
   "metadata": {},
   "source": [
    "#### **Questão 04. Classes e Métodos:**\n",
    "*Crie uma classe Cliente, com métodos para adicionar e exibir o saldo de um cliente*"
   ]
  },
  {
   "cell_type": "code",
   "execution_count": 74,
   "metadata": {},
   "outputs": [],
   "source": [
    "# Criando a classe Cliente\n",
    "class Cliente:\n",
    "    def __init__(self, id_cliente=None, nome_cliente=None, cidade=None):\n",
    "        self.id_cliente = id_cliente\n",
    "        self.nome_cliente = nome_cliente\n",
    "        self.cidade = cidade\n",
    "\n",
    "    def registrar_venda(self, df_master):\n",
    "        # Pedindo o ID do cliente via input\n",
    "        self.id_cliente = int(input(\"Digite o ID do cliente: \"))\n",
    "\n",
    "        # Verifica se o cliente já existe no DataFrame\n",
    "        if self.id_cliente in df_master['id_cliente'].values:\n",
    "            print(\"Cliente encontrado! Insira os detalhes da nova venda.\")\n",
    "            # Para clientes existentes, pede apenas valor da compra e data\n",
    "            valor_compra = float(input(\"Digite o valor da nova compra: \"))\n",
    "            data_venda = input(\"Digite a data da venda (formato YYYY-MM-DD): \")\n",
    "            self.nome_cliente = df_master.loc[df_master['id_cliente'] == self.id_cliente, 'nome_cliente'].values[0]\n",
    "            self.cidade = df_master.loc[df_master['id_cliente'] == self.id_cliente, 'cidade'].values[0]\n",
    "        else:\n",
    "            print(\"Novo cliente! Por favor, insira as informações do cliente.\")\n",
    "            # Para novos clientes, pede nome, cidade, valor da compra e data\n",
    "            self.nome_cliente = input(\"Digite o nome do cliente: \")\n",
    "            self.cidade = input(\"Digite a cidade do cliente: \")\n",
    "            valor_compra = float(input(\"Digite o valor da primeira compra: \"))\n",
    "            data_venda = input(\"Digite a data da venda (formato YYYY-MM-DD): \")\n",
    "\n",
    "        # Adiciona a venda ao df_master (definido a seguir)\n",
    "        df_master = self.adicionar_venda(df_master, valor_compra, data_venda)\n",
    "\n",
    "        return df_master\n",
    "\n",
    "    def adicionar_venda(self, df_master, valor_compra, data_venda):\n",
    "        # Gera o novo id_venda com base no último id_venda do DataFrame\n",
    "        if len(df_master) > 0:\n",
    "            novo_id_venda = df_master['id_venda'].max() + 1\n",
    "        else:\n",
    "            novo_id_venda = 1\n",
    "\n",
    "        # Verifica se o cliente já existe no df_master\n",
    "        if self.id_cliente in df_master['id_cliente'].values:\n",
    "            # Cliente existente: Adiciona apenas a nova compra\n",
    "            nova_venda = pd.DataFrame({\n",
    "                'id_venda': [novo_id_venda],\n",
    "                'id_cliente': [self.id_cliente],\n",
    "                'data_venda': [data_venda],\n",
    "                'valor_total': [valor_compra],\n",
    "                'nome_cliente': [self.nome_cliente],  # Nome já existente\n",
    "                'cidade': [self.cidade]  # Cidade já existente\n",
    "            })\n",
    "        else:\n",
    "            # Novo cliente: Adiciona todos os dados relevantes\n",
    "            nova_venda = pd.DataFrame({\n",
    "                'id_venda': [novo_id_venda],\n",
    "                'id_cliente': [self.id_cliente],\n",
    "                'data_venda': [data_venda],\n",
    "                'valor_total': [valor_compra],\n",
    "                'nome_cliente': [self.nome_cliente],\n",
    "                'cidade': [self.cidade]\n",
    "            })\n",
    "\n",
    "        # Concatena a nova venda ao df_master\n",
    "        df_master = pd.concat([df_master, nova_venda], ignore_index=True)\n",
    "        return df_master\n",
    "\n",
    "    def exibir_saldo(self, df_total_cliente):\n",
    "        # Busca o saldo atualizado do cliente e o nome do cliente a partir do DataFrame\n",
    "        if self.id_cliente in df_total_cliente['id_cliente'].values:\n",
    "            saldo = df_total_cliente.loc[df_total_cliente['id_cliente'] == self.id_cliente, 'valor_total'].values[0]\n",
    "            nome_cliente = df_total_cliente.loc[df_total_cliente['id_cliente'] == self.id_cliente, 'nome_cliente'].values[0]\n",
    "            print(f\"Cliente {nome_cliente} (ID: {self.id_cliente}) tem um saldo de: R$ {saldo}\")\n",
    "        else:\n",
    "            print(f\"Cliente (ID: {self.id_cliente}) não encontrado.\")"
   ]
  },
  {
   "cell_type": "markdown",
   "metadata": {},
   "source": [
    "O que está sendo feito aqui é basicamente o seguinte: quando o método `registrar_venda` é chamado, a classe pede o ID do cliente e verifica se ele já está no sistema. Se ja estiver, só é solicitado o valor da compra e a data que foi feita, já que as outras infos são fixas para cada cliente. Se o cliente for novo, a classe pede todas as informações - nome, cidade, valor da compra e data.\n",
    "\n",
    "Depois disso, o método `adicionar_venda` é chamado para inserir a venda no df_master, que criamos no exercício anterior, criando um novo ID de venda e registrando tudo no sistema.\n",
    "\n",
    "Por último, o método `exibir_saldo` permite verificar o saldo total de um cliente, mostrando o nome e o valor total de suas compras. Ele informa que o cliente não foi encontrado se o ID inputado não estiver na base master.\n",
    "\n",
    "Resumindo, a classe executa todo o processo de registro de vendas e exibição do saldo dos clientes, verificando se o cliente já existe ou não e organizando as informações no sistema.\n",
    "\n",
    "A seguir, vamos realizar alguns testes. Primeiro, vamos registar a compra de um cliente que já está na base, o cliente de com id sendo 1 (João Souza), vamos registar uma compra de R$500,00 no nome dele no dia 28/12/2020"
   ]
  },
  {
   "cell_type": "code",
   "execution_count": 75,
   "metadata": {},
   "outputs": [
    {
     "name": "stdout",
     "output_type": "stream",
     "text": [
      "Cliente encontrado! Insira os detalhes da nova venda.\n",
      "Cliente João Souza (ID: 1) tem um saldo de: R$ 830.0\n"
     ]
    }
   ],
   "source": [
    "# Criando uma instância de Cliente e registrando a venda\n",
    "cliente = Cliente()\n",
    "df_master = cliente.registrar_venda(df_master)\n",
    "\n",
    "# Atualizando df_total_cliente\n",
    "df_total_cliente = df_master.groupby(['id_cliente', 'nome_cliente'])['valor_total'].sum().reset_index()\n",
    "\n",
    "# Exibindo o saldo do cliente\n",
    "cliente.exibir_saldo(df_total_cliente)"
   ]
  },
  {
   "cell_type": "markdown",
   "metadata": {},
   "source": [
    "Se repararmos, o novo saldo do João Souza agora é R$830,00 (voltando um pouco, no exercício 3 é possível ver que o saldo era de R$330, o que nos mostra que a operação de atualização da base funcionou).\n",
    "\n",
    "Vamos agora adicionar um novo cliente, Otávio Assumpção, de ID 4 e que mora em Campo Grande. Nele, vamos registrar uma venda de R$280,00 no dia 01/01/2023."
   ]
  },
  {
   "cell_type": "code",
   "execution_count": 76,
   "metadata": {},
   "outputs": [
    {
     "name": "stdout",
     "output_type": "stream",
     "text": [
      "Novo cliente! Por favor, insira as informações do cliente.\n",
      "Cliente Otávio Assumpção (ID: 4) tem um saldo de: R$ 280.0\n"
     ]
    }
   ],
   "source": [
    "# Criando uma instância de Cliente e registrando a venda\n",
    "cliente = Cliente()\n",
    "df_master = cliente.registrar_venda(df_master)\n",
    "\n",
    "# Atualizando df_total_cliente\n",
    "df_total_cliente = df_master.groupby(['id_cliente', 'nome_cliente'])['valor_total'].sum().reset_index()\n",
    "\n",
    "# Exibindo o saldo do cliente\n",
    "cliente.exibir_saldo(df_total_cliente)"
   ]
  },
  {
   "cell_type": "markdown",
   "metadata": {},
   "source": [
    "Aqui, podemos reparar que o saldo do novo cliente é justamente o valor da compra que registramos, pois como se trata de um novo cliente, não havia nenhum registro anteriormente.\n",
    "\n",
    "Vamos agora ver como está nossa base de compras totais por cliente:"
   ]
  },
  {
   "cell_type": "code",
   "execution_count": 77,
   "metadata": {},
   "outputs": [
    {
     "data": {
      "text/html": [
       "<div>\n",
       "<style scoped>\n",
       "    .dataframe tbody tr th:only-of-type {\n",
       "        vertical-align: middle;\n",
       "    }\n",
       "\n",
       "    .dataframe tbody tr th {\n",
       "        vertical-align: top;\n",
       "    }\n",
       "\n",
       "    .dataframe thead th {\n",
       "        text-align: right;\n",
       "    }\n",
       "</style>\n",
       "<table border=\"1\" class=\"dataframe\">\n",
       "  <thead>\n",
       "    <tr style=\"text-align: right;\">\n",
       "      <th></th>\n",
       "      <th>id_cliente</th>\n",
       "      <th>nome_cliente</th>\n",
       "      <th>valor_total</th>\n",
       "    </tr>\n",
       "  </thead>\n",
       "  <tbody>\n",
       "    <tr>\n",
       "      <th>0</th>\n",
       "      <td>1</td>\n",
       "      <td>João Souza</td>\n",
       "      <td>830.0</td>\n",
       "    </tr>\n",
       "    <tr>\n",
       "      <th>1</th>\n",
       "      <td>2</td>\n",
       "      <td>Ana Costa</td>\n",
       "      <td>1120.0</td>\n",
       "    </tr>\n",
       "    <tr>\n",
       "      <th>2</th>\n",
       "      <td>3</td>\n",
       "      <td>Carlos Lima</td>\n",
       "      <td>500.0</td>\n",
       "    </tr>\n",
       "    <tr>\n",
       "      <th>3</th>\n",
       "      <td>4</td>\n",
       "      <td>Otávio Assumpção</td>\n",
       "      <td>280.0</td>\n",
       "    </tr>\n",
       "  </tbody>\n",
       "</table>\n",
       "</div>"
      ],
      "text/plain": [
       "   id_cliente      nome_cliente  valor_total\n",
       "0           1        João Souza        830.0\n",
       "1           2         Ana Costa       1120.0\n",
       "2           3       Carlos Lima        500.0\n",
       "3           4  Otávio Assumpção        280.0"
      ]
     },
     "execution_count": 77,
     "metadata": {},
     "output_type": "execute_result"
    }
   ],
   "source": [
    "df_total_cliente"
   ]
  },
  {
   "cell_type": "markdown",
   "metadata": {},
   "source": [
    "É possível perceber que o saldo do João Souza aumentou em R$500,00, e que agora temos o Otávio Assumpção na nossa base, relfetindo as operações realizadas anteriormente.\n",
    "\n",
    "Por último, vamos analisar nossa `df_master`, que registra todas as transações:"
   ]
  },
  {
   "cell_type": "code",
   "execution_count": 78,
   "metadata": {},
   "outputs": [
    {
     "data": {
      "text/html": [
       "<div>\n",
       "<style scoped>\n",
       "    .dataframe tbody tr th:only-of-type {\n",
       "        vertical-align: middle;\n",
       "    }\n",
       "\n",
       "    .dataframe tbody tr th {\n",
       "        vertical-align: top;\n",
       "    }\n",
       "\n",
       "    .dataframe thead th {\n",
       "        text-align: right;\n",
       "    }\n",
       "</style>\n",
       "<table border=\"1\" class=\"dataframe\">\n",
       "  <thead>\n",
       "    <tr style=\"text-align: right;\">\n",
       "      <th></th>\n",
       "      <th>id_venda</th>\n",
       "      <th>id_cliente</th>\n",
       "      <th>data_venda</th>\n",
       "      <th>valor_total</th>\n",
       "      <th>nome_cliente</th>\n",
       "      <th>cidade</th>\n",
       "    </tr>\n",
       "  </thead>\n",
       "  <tbody>\n",
       "    <tr>\n",
       "      <th>0</th>\n",
       "      <td>1</td>\n",
       "      <td>1</td>\n",
       "      <td>2023-05-10</td>\n",
       "      <td>200.0</td>\n",
       "      <td>João Souza</td>\n",
       "      <td>Rio de Janeiro</td>\n",
       "    </tr>\n",
       "    <tr>\n",
       "      <th>1</th>\n",
       "      <td>2</td>\n",
       "      <td>2</td>\n",
       "      <td>2023-06-12</td>\n",
       "      <td>450.0</td>\n",
       "      <td>Ana Costa</td>\n",
       "      <td>São Paulo</td>\n",
       "    </tr>\n",
       "    <tr>\n",
       "      <th>2</th>\n",
       "      <td>3</td>\n",
       "      <td>1</td>\n",
       "      <td>2023-07-22</td>\n",
       "      <td>130.0</td>\n",
       "      <td>João Souza</td>\n",
       "      <td>Rio de Janeiro</td>\n",
       "    </tr>\n",
       "    <tr>\n",
       "      <th>3</th>\n",
       "      <td>4</td>\n",
       "      <td>3</td>\n",
       "      <td>2023-08-15</td>\n",
       "      <td>500.0</td>\n",
       "      <td>Carlos Lima</td>\n",
       "      <td>Belo Horizonte</td>\n",
       "    </tr>\n",
       "    <tr>\n",
       "      <th>4</th>\n",
       "      <td>5</td>\n",
       "      <td>2</td>\n",
       "      <td>2023-09-05</td>\n",
       "      <td>670.0</td>\n",
       "      <td>Ana Costa</td>\n",
       "      <td>São Paulo</td>\n",
       "    </tr>\n",
       "    <tr>\n",
       "      <th>5</th>\n",
       "      <td>6</td>\n",
       "      <td>1</td>\n",
       "      <td>2020-12-28</td>\n",
       "      <td>500.0</td>\n",
       "      <td>João Souza</td>\n",
       "      <td>Rio de Janeiro</td>\n",
       "    </tr>\n",
       "    <tr>\n",
       "      <th>6</th>\n",
       "      <td>7</td>\n",
       "      <td>4</td>\n",
       "      <td>2023-01-01</td>\n",
       "      <td>280.0</td>\n",
       "      <td>Otávio Assumpção</td>\n",
       "      <td>Campo Grande</td>\n",
       "    </tr>\n",
       "  </tbody>\n",
       "</table>\n",
       "</div>"
      ],
      "text/plain": [
       "   id_venda  id_cliente  data_venda  valor_total      nome_cliente  \\\n",
       "0         1           1  2023-05-10        200.0        João Souza   \n",
       "1         2           2  2023-06-12        450.0         Ana Costa   \n",
       "2         3           1  2023-07-22        130.0        João Souza   \n",
       "3         4           3  2023-08-15        500.0       Carlos Lima   \n",
       "4         5           2  2023-09-05        670.0         Ana Costa   \n",
       "5         6           1  2020-12-28        500.0        João Souza   \n",
       "6         7           4  2023-01-01        280.0  Otávio Assumpção   \n",
       "\n",
       "           cidade  \n",
       "0  Rio de Janeiro  \n",
       "1       São Paulo  \n",
       "2  Rio de Janeiro  \n",
       "3  Belo Horizonte  \n",
       "4       São Paulo  \n",
       "5  Rio de Janeiro  \n",
       "6    Campo Grande  "
      ]
     },
     "execution_count": 78,
     "metadata": {},
     "output_type": "execute_result"
    }
   ],
   "source": [
    "df_master"
   ]
  },
  {
   "cell_type": "markdown",
   "metadata": {},
   "source": [
    "Aqui, temos duas novas vendas, a 6 e a 7, que também refletem as operações realizadas anteriormente.\n",
    "\n",
    "#### **Questão 05. Iteração em listas e tuplas:**\n",
    "*Dada uma lista de valores de vendas, itere sobre ela para calcular a média das vendas*\n",
    "\n",
    "Aqui vamos utilizar nossa prórpia tabela de vendas, a `df_master`. A ideia é pegar todas as vendas realizadas e calcular a média utilizando o laço `for`:"
   ]
  },
  {
   "cell_type": "code",
   "execution_count": 81,
   "metadata": {},
   "outputs": [
    {
     "name": "stdout",
     "output_type": "stream",
     "text": [
      "A média das vendas é: R$ 390.00\n"
     ]
    }
   ],
   "source": [
    "def calcular_media(lista_valores):\n",
    "    soma = 0\n",
    "    # Iterando a lista e somando os valores encontrados\n",
    "    for valor in lista_valores:\n",
    "        soma += valor\n",
    "    # Fazendo a média\n",
    "    media = soma / len(lista_valores)\n",
    "    return media\n",
    "\n",
    "# Usando as nossas vendas como exemplo - transforma em lista\n",
    "valores_vendas = df_master['valor_total'].tolist()\n",
    "\n",
    "# Chamando a função para calcular a média\n",
    "media_vendas = calcular_media(valores_vendas)\n",
    "\n",
    "# Exibindo o resultado\n",
    "print(f\"A média das vendas é: R$ {media_vendas:.2f}\")"
   ]
  },
  {
   "cell_type": "markdown",
   "metadata": {},
   "source": [
    "#### **Questão 06. Recursão:**\n",
    "*Implemente uma função recursiva para calcular o fatorial de um número*\n",
    "\n",
    "Aqui, o exemplo utilizado foi o 5, mas a variável `numero` consegue inputar qualquer outro valor (desde que seja float)"
   ]
  },
  {
   "cell_type": "code",
   "execution_count": 85,
   "metadata": {},
   "outputs": [
    {
     "name": "stdout",
     "output_type": "stream",
     "text": [
      "O fatorial de 5.0 é 120.0\n"
     ]
    }
   ],
   "source": [
    "def fatorial(n):\n",
    "    # Caso base: o fatorial de 0 ou 1 é 1\n",
    "    if n == 0 or n == 1:\n",
    "        return 1\n",
    "    else:\n",
    "        # Chamada recursiva: n * fatorial(n-1)\n",
    "        return n * fatorial(n - 1)\n",
    "\n",
    "# Exemplo de uso\n",
    "numero = float(input('Numero: '))\n",
    "resultado = fatorial(numero)\n",
    "print(f\"O fatorial de {numero} é {resultado}\")"
   ]
  }
 ],
 "metadata": {
  "kernelspec": {
   "display_name": "Python 3 (ipykernel)",
   "language": "python",
   "name": "python3"
  },
  "language_info": {
   "codemirror_mode": {
    "name": "ipython",
    "version": 3
   },
   "file_extension": ".py",
   "mimetype": "text/x-python",
   "name": "python",
   "nbconvert_exporter": "python",
   "pygments_lexer": "ipython3",
   "version": "3.11.5"
  }
 },
 "nbformat": 4,
 "nbformat_minor": 2
}
