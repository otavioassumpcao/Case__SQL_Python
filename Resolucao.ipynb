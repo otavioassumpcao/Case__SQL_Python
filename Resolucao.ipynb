{
 "cells": [
  {
   "cell_type": "markdown",
   "metadata": {},
   "source": [
    "## **Parte 01**"
   ]
  },
  {
   "cell_type": "code",
   "execution_count": 1,
   "metadata": {},
   "outputs": [],
   "source": [
    "%load_ext sql"
   ]
  },
  {
   "cell_type": "code",
   "execution_count": 2,
   "metadata": {},
   "outputs": [],
   "source": [
    "import pandas as pd\n",
    "import sqlite3\n",
    "\n",
    "# Carregar os arquivos CSV\n",
    "clientes = pd.read_csv('Bases/clientes.csv')\n",
    "vendas = pd.read_csv('Bases/vendas.csv')\n",
    "\n",
    "# Conectar ao banco de dados SQLite e criar o arquivo\n",
    "conn = sqlite3.connect('clientes_vendas.db')\n",
    "clientes.to_sql('clientes', conn, if_exists='replace', index=False)\n",
    "vendas.to_sql('vendas', conn, if_exists='replace', index=False)\n",
    "conn.close()\n"
   ]
  },
  {
   "cell_type": "code",
   "execution_count": 3,
   "metadata": {},
   "outputs": [
    {
     "data": {
      "text/html": [
       "<span style=\"None\">Connecting to &#x27;sqlite:///clientes_vendas.db&#x27;</span>"
      ],
      "text/plain": [
       "Connecting to 'sqlite:///clientes_vendas.db'"
      ]
     },
     "metadata": {},
     "output_type": "display_data"
    }
   ],
   "source": [
    "%sql sqlite:///clientes_vendas.db"
   ]
  },
  {
   "cell_type": "code",
   "execution_count": 4,
   "metadata": {
    "vscode": {
     "languageId": "sql"
    }
   },
   "outputs": [
    {
     "data": {
      "text/html": [
       "<span style=\"None\">Running query in &#x27;sqlite:///clientes_vendas.db&#x27;</span>"
      ],
      "text/plain": [
       "Running query in 'sqlite:///clientes_vendas.db'"
      ]
     },
     "metadata": {},
     "output_type": "display_data"
    },
    {
     "data": {
      "text/html": [
       "<table>\n",
       "    <thead>\n",
       "        <tr>\n",
       "            <th>id_cliente</th>\n",
       "            <th>nome_cliente</th>\n",
       "            <th>cidade</th>\n",
       "        </tr>\n",
       "    </thead>\n",
       "    <tbody>\n",
       "        <tr>\n",
       "            <td>1</td>\n",
       "            <td>João Souza</td>\n",
       "            <td>Rio de Janeiro</td>\n",
       "        </tr>\n",
       "        <tr>\n",
       "            <td>2</td>\n",
       "            <td>Ana Costa</td>\n",
       "            <td>São Paulo</td>\n",
       "        </tr>\n",
       "        <tr>\n",
       "            <td>3</td>\n",
       "            <td>Carlos Lima</td>\n",
       "            <td>Belo Horizonte</td>\n",
       "        </tr>\n",
       "    </tbody>\n",
       "</table>"
      ],
      "text/plain": [
       "+------------+--------------+----------------+\n",
       "| id_cliente | nome_cliente |     cidade     |\n",
       "+------------+--------------+----------------+\n",
       "|     1      |  João Souza  | Rio de Janeiro |\n",
       "|     2      |  Ana Costa   |   São Paulo    |\n",
       "|     3      | Carlos Lima  | Belo Horizonte |\n",
       "+------------+--------------+----------------+"
      ]
     },
     "execution_count": 4,
     "metadata": {},
     "output_type": "execute_result"
    }
   ],
   "source": [
    "%%sql\n",
    "SELECT * FROM clientes;"
   ]
  },
  {
   "cell_type": "code",
   "execution_count": 5,
   "metadata": {
    "vscode": {
     "languageId": "sql"
    }
   },
   "outputs": [
    {
     "data": {
      "text/html": [
       "<span style=\"None\">Running query in &#x27;sqlite:///clientes_vendas.db&#x27;</span>"
      ],
      "text/plain": [
       "Running query in 'sqlite:///clientes_vendas.db'"
      ]
     },
     "metadata": {},
     "output_type": "display_data"
    },
    {
     "data": {
      "text/html": [
       "<table>\n",
       "    <thead>\n",
       "        <tr>\n",
       "            <th>id_venda</th>\n",
       "            <th>id_cliente</th>\n",
       "            <th>data_venda</th>\n",
       "            <th>valor_total</th>\n",
       "        </tr>\n",
       "    </thead>\n",
       "    <tbody>\n",
       "        <tr>\n",
       "            <td>1</td>\n",
       "            <td>1</td>\n",
       "            <td>2023-05-10</td>\n",
       "            <td>200</td>\n",
       "        </tr>\n",
       "        <tr>\n",
       "            <td>2</td>\n",
       "            <td>2</td>\n",
       "            <td>2023-06-12</td>\n",
       "            <td>450</td>\n",
       "        </tr>\n",
       "        <tr>\n",
       "            <td>3</td>\n",
       "            <td>1</td>\n",
       "            <td>2023-07-22</td>\n",
       "            <td>130</td>\n",
       "        </tr>\n",
       "        <tr>\n",
       "            <td>4</td>\n",
       "            <td>3</td>\n",
       "            <td>2023-08-15</td>\n",
       "            <td>500</td>\n",
       "        </tr>\n",
       "        <tr>\n",
       "            <td>5</td>\n",
       "            <td>2</td>\n",
       "            <td>2023-09-05</td>\n",
       "            <td>670</td>\n",
       "        </tr>\n",
       "    </tbody>\n",
       "</table>"
      ],
      "text/plain": [
       "+----------+------------+------------+-------------+\n",
       "| id_venda | id_cliente | data_venda | valor_total |\n",
       "+----------+------------+------------+-------------+\n",
       "|    1     |     1      | 2023-05-10 |     200     |\n",
       "|    2     |     2      | 2023-06-12 |     450     |\n",
       "|    3     |     1      | 2023-07-22 |     130     |\n",
       "|    4     |     3      | 2023-08-15 |     500     |\n",
       "|    5     |     2      | 2023-09-05 |     670     |\n",
       "+----------+------------+------------+-------------+"
      ]
     },
     "execution_count": 5,
     "metadata": {},
     "output_type": "execute_result"
    }
   ],
   "source": [
    "%%sql\n",
    "SELECT * FROM vendas;"
   ]
  },
  {
   "cell_type": "code",
   "execution_count": 6,
   "metadata": {
    "vscode": {
     "languageId": "sql"
    }
   },
   "outputs": [
    {
     "data": {
      "text/html": [
       "<span style=\"None\">Running query in &#x27;sqlite:///clientes_vendas.db&#x27;</span>"
      ],
      "text/plain": [
       "Running query in 'sqlite:///clientes_vendas.db'"
      ]
     },
     "metadata": {},
     "output_type": "display_data"
    },
    {
     "data": {
      "text/html": [
       "<table>\n",
       "    <thead>\n",
       "        <tr>\n",
       "            <th>nome_cliente</th>\n",
       "            <th>total_vendas</th>\n",
       "        </tr>\n",
       "    </thead>\n",
       "    <tbody>\n",
       "        <tr>\n",
       "            <td>Ana Costa</td>\n",
       "            <td>1120</td>\n",
       "        </tr>\n",
       "        <tr>\n",
       "            <td>Carlos Lima</td>\n",
       "            <td>500</td>\n",
       "        </tr>\n",
       "        <tr>\n",
       "            <td>João Souza</td>\n",
       "            <td>330</td>\n",
       "        </tr>\n",
       "    </tbody>\n",
       "</table>"
      ],
      "text/plain": [
       "+--------------+--------------+\n",
       "| nome_cliente | total_vendas |\n",
       "+--------------+--------------+\n",
       "|  Ana Costa   |     1120     |\n",
       "| Carlos Lima  |     500      |\n",
       "|  João Souza  |     330      |\n",
       "+--------------+--------------+"
      ]
     },
     "execution_count": 6,
     "metadata": {},
     "output_type": "execute_result"
    }
   ],
   "source": [
    "%%sql\n",
    "\n",
    "-- Seleciona o nome dos clientes e o valor total das vendas de 2023\n",
    "SELECT clientes.nome_cliente, SUM(vendas.valor_total) AS total_vendas\n",
    "\n",
    "-- As tabelas 'clientes' e 'vendas' são combinadas usando JOIN\n",
    "FROM clientes\n",
    "JOIN vendas ON clientes.id_cliente = vendas.id_cliente\n",
    "\n",
    "-- Filtra as vendas realizadas apenas entre 1º de janeiro e 31 de dezembro de 2023\n",
    "WHERE vendas.data_venda BETWEEN '2023-01-01' AND '2023-12-31'\n",
    "\n",
    "-- Agrupa os resultados por cliente, somando as vendas de cada cliente\n",
    "GROUP BY clientes.nome_cliente;\n"
   ]
  },
  {
   "cell_type": "code",
   "execution_count": 7,
   "metadata": {
    "vscode": {
     "languageId": "sql"
    }
   },
   "outputs": [
    {
     "data": {
      "text/html": [
       "<span style=\"None\">Running query in &#x27;sqlite:///clientes_vendas.db&#x27;</span>"
      ],
      "text/plain": [
       "Running query in 'sqlite:///clientes_vendas.db'"
      ]
     },
     "metadata": {},
     "output_type": "display_data"
    },
    {
     "data": {
      "text/html": [
       "<table>\n",
       "    <thead>\n",
       "        <tr>\n",
       "            <th>cidade</th>\n",
       "            <th>total_vendas</th>\n",
       "        </tr>\n",
       "    </thead>\n",
       "    <tbody>\n",
       "        <tr>\n",
       "            <td>São Paulo</td>\n",
       "            <td>1120</td>\n",
       "        </tr>\n",
       "        <tr>\n",
       "            <td>Belo Horizonte</td>\n",
       "            <td>500</td>\n",
       "        </tr>\n",
       "        <tr>\n",
       "            <td>Rio de Janeiro</td>\n",
       "            <td>330</td>\n",
       "        </tr>\n",
       "    </tbody>\n",
       "</table>"
      ],
      "text/plain": [
       "+----------------+--------------+\n",
       "|     cidade     | total_vendas |\n",
       "+----------------+--------------+\n",
       "|   São Paulo    |     1120     |\n",
       "| Belo Horizonte |     500      |\n",
       "| Rio de Janeiro |     330      |\n",
       "+----------------+--------------+"
      ]
     },
     "execution_count": 7,
     "metadata": {},
     "output_type": "execute_result"
    }
   ],
   "source": [
    "%%sql\n",
    "-- Seleciona a cidade dos clientes e o valor total das vendas em cada cidade\n",
    "SELECT clientes.cidade, SUM(vendas.valor_total) AS total_vendas\n",
    "\n",
    "-- Faz o JOIN entre as tabelas clientes e vendas, utilizando o campo id_cliente como chave\n",
    "FROM clientes\n",
    "JOIN vendas ON clientes.id_cliente = vendas.id_cliente\n",
    "\n",
    "-- Agrupa os resultados por cidade, somando as vendas para cada cidade\n",
    "GROUP BY clientes.cidade\n",
    "\n",
    "-- Ordena os resultados pelo valor total das vendas em ordem decrescente (da maior para a menor)\n",
    "ORDER BY total_vendas DESC;"
   ]
  },
  {
   "cell_type": "code",
   "execution_count": 24,
   "metadata": {
    "vscode": {
     "languageId": "sql"
    }
   },
   "outputs": [
    {
     "data": {
      "text/html": [
       "<span style=\"None\">Running query in &#x27;sqlite:///clientes_vendas.db&#x27;</span>"
      ],
      "text/plain": [
       "Running query in 'sqlite:///clientes_vendas.db'"
      ]
     },
     "metadata": {},
     "output_type": "display_data"
    },
    {
     "data": {
      "text/html": [
       "<table>\n",
       "    <thead>\n",
       "        <tr>\n",
       "            <th>id_cliente</th>\n",
       "            <th>nome_cliente</th>\n",
       "            <th>cidade</th>\n",
       "        </tr>\n",
       "    </thead>\n",
       "    <tbody>\n",
       "        <tr>\n",
       "            <td>1</td>\n",
       "            <td>João Souza</td>\n",
       "            <td>Rio de Janeiro</td>\n",
       "        </tr>\n",
       "        <tr>\n",
       "            <td>2</td>\n",
       "            <td>Ana Costa</td>\n",
       "            <td>São Paulo</td>\n",
       "        </tr>\n",
       "        <tr>\n",
       "            <td>3</td>\n",
       "            <td>Carlos Lima</td>\n",
       "            <td>Belo Horizonte</td>\n",
       "        </tr>\n",
       "        <tr>\n",
       "            <td>4</td>\n",
       "            <td>Otávio Assumpção</td>\n",
       "            <td>Campo Grande</td>\n",
       "        </tr>\n",
       "    </tbody>\n",
       "</table>"
      ],
      "text/plain": [
       "+------------+------------------+----------------+\n",
       "| id_cliente |   nome_cliente   |     cidade     |\n",
       "+------------+------------------+----------------+\n",
       "|     1      |    João Souza    | Rio de Janeiro |\n",
       "|     2      |    Ana Costa     |   São Paulo    |\n",
       "|     3      |   Carlos Lima    | Belo Horizonte |\n",
       "|     4      | Otávio Assumpção |  Campo Grande  |\n",
       "+------------+------------------+----------------+"
      ]
     },
     "execution_count": 24,
     "metadata": {},
     "output_type": "execute_result"
    }
   ],
   "source": [
    "%%sql\n",
    "\n",
    "-- Insere o cliente somente se ele ainda não existir\n",
    "-- Dessa forma não corremos o riso de duplicar um cliente\n",
    "INSERT INTO clientes (id_cliente, nome_cliente, cidade)\n",
    "SELECT 4, 'Otávio Assumpção', 'Campo Grande'\n",
    "WHERE NOT EXISTS (\n",
    "    SELECT 1 FROM clientes WHERE id_cliente = 4\n",
    ");\n",
    "\n",
    "-- Visualizando \n",
    "SELECT * FROM clientes;"
   ]
  },
  {
   "cell_type": "code",
   "execution_count": 62,
   "metadata": {
    "vscode": {
     "languageId": "sql"
    }
   },
   "outputs": [
    {
     "data": {
      "text/html": [
       "<span style=\"None\">Running query in &#x27;sqlite:///clientes_vendas.db&#x27;</span>"
      ],
      "text/plain": [
       "Running query in 'sqlite:///clientes_vendas.db'"
      ]
     },
     "metadata": {},
     "output_type": "display_data"
    },
    {
     "data": {
      "text/html": [
       "<table>\n",
       "    <thead>\n",
       "        <tr>\n",
       "            <th>id_venda</th>\n",
       "            <th>id_cliente</th>\n",
       "            <th>data_venda</th>\n",
       "            <th>valor_total</th>\n",
       "        </tr>\n",
       "    </thead>\n",
       "    <tbody>\n",
       "        <tr>\n",
       "            <td>1</td>\n",
       "            <td>1</td>\n",
       "            <td>2023-05-10</td>\n",
       "            <td>200</td>\n",
       "        </tr>\n",
       "        <tr>\n",
       "            <td>2</td>\n",
       "            <td>2</td>\n",
       "            <td>2023-06-12</td>\n",
       "            <td>450</td>\n",
       "        </tr>\n",
       "        <tr>\n",
       "            <td>3</td>\n",
       "            <td>1</td>\n",
       "            <td>2023-07-22</td>\n",
       "            <td>130</td>\n",
       "        </tr>\n",
       "        <tr>\n",
       "            <td>4</td>\n",
       "            <td>3</td>\n",
       "            <td>2023-08-15</td>\n",
       "            <td>500</td>\n",
       "        </tr>\n",
       "        <tr>\n",
       "            <td>5</td>\n",
       "            <td>2</td>\n",
       "            <td>2023-09-05</td>\n",
       "            <td>670</td>\n",
       "        </tr>\n",
       "        <tr>\n",
       "            <td>6</td>\n",
       "            <td>4</td>\n",
       "            <td>2024-01-10</td>\n",
       "            <td>380</td>\n",
       "        </tr>\n",
       "    </tbody>\n",
       "</table>"
      ],
      "text/plain": [
       "+----------+------------+------------+-------------+\n",
       "| id_venda | id_cliente | data_venda | valor_total |\n",
       "+----------+------------+------------+-------------+\n",
       "|    1     |     1      | 2023-05-10 |     200     |\n",
       "|    2     |     2      | 2023-06-12 |     450     |\n",
       "|    3     |     1      | 2023-07-22 |     130     |\n",
       "|    4     |     3      | 2023-08-15 |     500     |\n",
       "|    5     |     2      | 2023-09-05 |     670     |\n",
       "|    6     |     4      | 2024-01-10 |     380     |\n",
       "+----------+------------+------------+-------------+"
      ]
     },
     "execution_count": 62,
     "metadata": {},
     "output_type": "execute_result"
    }
   ],
   "source": [
    "%%sql\n",
    "\n",
    "-- Insere uma nova venda para o cliente 4 apenas se o id_venda não existir\n",
    "-- Dessa forma, não corremos o risco de registrar a mesma venda mais de uma vez\n",
    "INSERT INTO vendas (id_venda, id_cliente, valor_total, data_venda)\n",
    "SELECT 6, 4, 280.00, '2024-01-10'\n",
    "WHERE NOT EXISTS (\n",
    "    SELECT 1 FROM vendas WHERE id_venda = 6\n",
    ");\n",
    "\n",
    "-- Visualizando\n",
    "SELECT * FROM vendas;"
   ]
  },
  {
   "cell_type": "code",
   "execution_count": 60,
   "metadata": {
    "vscode": {
     "languageId": "sql"
    }
   },
   "outputs": [
    {
     "data": {
      "text/html": [
       "<span style=\"None\">Running query in &#x27;sqlite:///clientes_vendas.db&#x27;</span>"
      ],
      "text/plain": [
       "Running query in 'sqlite:///clientes_vendas.db'"
      ]
     },
     "metadata": {},
     "output_type": "display_data"
    },
    {
     "data": {
      "text/html": [
       "<span style=\"color: green\">1 rows affected.</span>"
      ],
      "text/plain": [
       "1 rows affected."
      ]
     },
     "metadata": {},
     "output_type": "display_data"
    },
    {
     "data": {
      "text/html": [
       "<table>\n",
       "    <thead>\n",
       "        <tr>\n",
       "            <th>id_venda</th>\n",
       "            <th>id_cliente</th>\n",
       "            <th>data_venda</th>\n",
       "            <th>valor_total</th>\n",
       "        </tr>\n",
       "    </thead>\n",
       "    <tbody>\n",
       "        <tr>\n",
       "            <td>1</td>\n",
       "            <td>1</td>\n",
       "            <td>2023-05-10</td>\n",
       "            <td>200</td>\n",
       "        </tr>\n",
       "        <tr>\n",
       "            <td>2</td>\n",
       "            <td>2</td>\n",
       "            <td>2023-06-12</td>\n",
       "            <td>450</td>\n",
       "        </tr>\n",
       "        <tr>\n",
       "            <td>3</td>\n",
       "            <td>1</td>\n",
       "            <td>2023-07-22</td>\n",
       "            <td>130</td>\n",
       "        </tr>\n",
       "        <tr>\n",
       "            <td>4</td>\n",
       "            <td>3</td>\n",
       "            <td>2023-08-15</td>\n",
       "            <td>500</td>\n",
       "        </tr>\n",
       "        <tr>\n",
       "            <td>5</td>\n",
       "            <td>2</td>\n",
       "            <td>2023-09-05</td>\n",
       "            <td>670</td>\n",
       "        </tr>\n",
       "        <tr>\n",
       "            <td>6</td>\n",
       "            <td>4</td>\n",
       "            <td>2024-01-10</td>\n",
       "            <td>380</td>\n",
       "        </tr>\n",
       "    </tbody>\n",
       "</table>"
      ],
      "text/plain": [
       "+----------+------------+------------+-------------+\n",
       "| id_venda | id_cliente | data_venda | valor_total |\n",
       "+----------+------------+------------+-------------+\n",
       "|    1     |     1      | 2023-05-10 |     200     |\n",
       "|    2     |     2      | 2023-06-12 |     450     |\n",
       "|    3     |     1      | 2023-07-22 |     130     |\n",
       "|    4     |     3      | 2023-08-15 |     500     |\n",
       "|    5     |     2      | 2023-09-05 |     670     |\n",
       "|    6     |     4      | 2024-01-10 |     380     |\n",
       "+----------+------------+------------+-------------+"
      ]
     },
     "execution_count": 60,
     "metadata": {},
     "output_type": "execute_result"
    }
   ],
   "source": [
    "%%sql\n",
    "\n",
    "-- Atualiza o valor total da venda com id_venda 6 para 380\n",
    "UPDATE vendas\n",
    "SET valor_total = 380\n",
    "WHERE id_venda = 6;\n",
    "\n",
    "-- Visualizando\n",
    "SELECT * FROM vendas;"
   ]
  },
  {
   "cell_type": "code",
   "execution_count": 63,
   "metadata": {
    "vscode": {
     "languageId": "sql"
    }
   },
   "outputs": [
    {
     "data": {
      "text/html": [
       "<span style=\"None\">Running query in &#x27;sqlite:///clientes_vendas.db&#x27;</span>"
      ],
      "text/plain": [
       "Running query in 'sqlite:///clientes_vendas.db'"
      ]
     },
     "metadata": {},
     "output_type": "display_data"
    },
    {
     "data": {
      "text/html": [
       "<table>\n",
       "    <thead>\n",
       "        <tr>\n",
       "            <th>cidade</th>\n",
       "        </tr>\n",
       "    </thead>\n",
       "    <tbody>\n",
       "        <tr>\n",
       "            <td>Rio de Janeiro</td>\n",
       "        </tr>\n",
       "        <tr>\n",
       "            <td>São Paulo</td>\n",
       "        </tr>\n",
       "    </tbody>\n",
       "</table>"
      ],
      "text/plain": [
       "+----------------+\n",
       "|     cidade     |\n",
       "+----------------+\n",
       "| Rio de Janeiro |\n",
       "|   São Paulo    |\n",
       "+----------------+"
      ]
     },
     "execution_count": 63,
     "metadata": {},
     "output_type": "execute_result"
    }
   ],
   "source": [
    "%%sql\n",
    "\n",
    "-- Retorna as cidades distintas com clientes que fizeram mais de uma venda\n",
    "SELECT DISTINCT clientes.cidade\n",
    "FROM clientes\n",
    "JOIN vendas ON clientes.id_cliente = vendas.id_cliente\n",
    "GROUP BY clientes.id_cliente, clientes.cidade\n",
    "HAVING COUNT(vendas.id_venda) > 1;"
   ]
  },
  {
   "cell_type": "markdown",
   "metadata": {},
   "source": [
    "## **Parte 2**"
   ]
  },
  {
   "cell_type": "code",
   "execution_count": 295,
   "metadata": {},
   "outputs": [
    {
     "data": {
      "text/html": [
       "<div>\n",
       "<style scoped>\n",
       "    .dataframe tbody tr th:only-of-type {\n",
       "        vertical-align: middle;\n",
       "    }\n",
       "\n",
       "    .dataframe tbody tr th {\n",
       "        vertical-align: top;\n",
       "    }\n",
       "\n",
       "    .dataframe thead th {\n",
       "        text-align: right;\n",
       "    }\n",
       "</style>\n",
       "<table border=\"1\" class=\"dataframe\">\n",
       "  <thead>\n",
       "    <tr style=\"text-align: right;\">\n",
       "      <th></th>\n",
       "      <th>id_venda</th>\n",
       "      <th>id_cliente</th>\n",
       "      <th>data_venda</th>\n",
       "      <th>valor_total</th>\n",
       "    </tr>\n",
       "  </thead>\n",
       "  <tbody>\n",
       "    <tr>\n",
       "      <th>0</th>\n",
       "      <td>1</td>\n",
       "      <td>1</td>\n",
       "      <td>2023-05-10</td>\n",
       "      <td>200</td>\n",
       "    </tr>\n",
       "    <tr>\n",
       "      <th>1</th>\n",
       "      <td>2</td>\n",
       "      <td>2</td>\n",
       "      <td>2023-06-12</td>\n",
       "      <td>450</td>\n",
       "    </tr>\n",
       "    <tr>\n",
       "      <th>2</th>\n",
       "      <td>3</td>\n",
       "      <td>1</td>\n",
       "      <td>2023-07-22</td>\n",
       "      <td>130</td>\n",
       "    </tr>\n",
       "    <tr>\n",
       "      <th>3</th>\n",
       "      <td>4</td>\n",
       "      <td>3</td>\n",
       "      <td>2023-08-15</td>\n",
       "      <td>500</td>\n",
       "    </tr>\n",
       "    <tr>\n",
       "      <th>4</th>\n",
       "      <td>5</td>\n",
       "      <td>2</td>\n",
       "      <td>2023-09-05</td>\n",
       "      <td>670</td>\n",
       "    </tr>\n",
       "  </tbody>\n",
       "</table>\n",
       "</div>"
      ],
      "text/plain": [
       "   id_venda  id_cliente  data_venda  valor_total\n",
       "0         1           1  2023-05-10          200\n",
       "1         2           2  2023-06-12          450\n",
       "2         3           1  2023-07-22          130\n",
       "3         4           3  2023-08-15          500\n",
       "4         5           2  2023-09-05          670"
      ]
     },
     "execution_count": 295,
     "metadata": {},
     "output_type": "execute_result"
    }
   ],
   "source": [
    "import pandas as pd # Já háviamos importando anteriormente, apenas para reforçar\n",
    "\n",
    "df_vendas = pd.read_csv('Bases/vendas.csv') # Função read.csv() já retona como DataFrame\n",
    "df_clientes = pd.read_csv('Bases/clientes.csv') # Vamos utilizar essa base nos próximos itens\n",
    "\n",
    "# Exibir as 5 primeiras linhas do DataFrame de vendas\n",
    "df_vendas.head() # .head() retorna os 5 primeiros por default\n"
   ]
  },
  {
   "cell_type": "code",
   "execution_count": 296,
   "metadata": {},
   "outputs": [
    {
     "data": {
      "text/html": [
       "<div>\n",
       "<style scoped>\n",
       "    .dataframe tbody tr th:only-of-type {\n",
       "        vertical-align: middle;\n",
       "    }\n",
       "\n",
       "    .dataframe tbody tr th {\n",
       "        vertical-align: top;\n",
       "    }\n",
       "\n",
       "    .dataframe thead th {\n",
       "        text-align: right;\n",
       "    }\n",
       "</style>\n",
       "<table border=\"1\" class=\"dataframe\">\n",
       "  <thead>\n",
       "    <tr style=\"text-align: right;\">\n",
       "      <th></th>\n",
       "      <th>id_venda</th>\n",
       "      <th>id_cliente</th>\n",
       "      <th>data_venda</th>\n",
       "      <th>valor_total</th>\n",
       "    </tr>\n",
       "  </thead>\n",
       "  <tbody>\n",
       "    <tr>\n",
       "      <th>1</th>\n",
       "      <td>2</td>\n",
       "      <td>2</td>\n",
       "      <td>2023-06-12</td>\n",
       "      <td>450</td>\n",
       "    </tr>\n",
       "    <tr>\n",
       "      <th>3</th>\n",
       "      <td>4</td>\n",
       "      <td>3</td>\n",
       "      <td>2023-08-15</td>\n",
       "      <td>500</td>\n",
       "    </tr>\n",
       "    <tr>\n",
       "      <th>4</th>\n",
       "      <td>5</td>\n",
       "      <td>2</td>\n",
       "      <td>2023-09-05</td>\n",
       "      <td>670</td>\n",
       "    </tr>\n",
       "  </tbody>\n",
       "</table>\n",
       "</div>"
      ],
      "text/plain": [
       "   id_venda  id_cliente  data_venda  valor_total\n",
       "1         2           2  2023-06-12          450\n",
       "3         4           3  2023-08-15          500\n",
       "4         5           2  2023-09-05          670"
      ]
     },
     "execution_count": 296,
     "metadata": {},
     "output_type": "execute_result"
    }
   ],
   "source": [
    "# Sem criar um novo df e sem editar o df original\n",
    "df_vendas[df_vendas['valor_total'] > 300]"
   ]
  },
  {
   "cell_type": "code",
   "execution_count": 297,
   "metadata": {},
   "outputs": [
    {
     "data": {
      "text/html": [
       "<div>\n",
       "<style scoped>\n",
       "    .dataframe tbody tr th:only-of-type {\n",
       "        vertical-align: middle;\n",
       "    }\n",
       "\n",
       "    .dataframe tbody tr th {\n",
       "        vertical-align: top;\n",
       "    }\n",
       "\n",
       "    .dataframe thead th {\n",
       "        text-align: right;\n",
       "    }\n",
       "</style>\n",
       "<table border=\"1\" class=\"dataframe\">\n",
       "  <thead>\n",
       "    <tr style=\"text-align: right;\">\n",
       "      <th></th>\n",
       "      <th>id_cliente</th>\n",
       "      <th>nome_cliente</th>\n",
       "      <th>cidade</th>\n",
       "    </tr>\n",
       "  </thead>\n",
       "  <tbody>\n",
       "    <tr>\n",
       "      <th>0</th>\n",
       "      <td>1</td>\n",
       "      <td>João Souza</td>\n",
       "      <td>Rio de Janeiro</td>\n",
       "    </tr>\n",
       "    <tr>\n",
       "      <th>1</th>\n",
       "      <td>2</td>\n",
       "      <td>Ana Costa</td>\n",
       "      <td>São Paulo</td>\n",
       "    </tr>\n",
       "    <tr>\n",
       "      <th>2</th>\n",
       "      <td>3</td>\n",
       "      <td>Carlos Lima</td>\n",
       "      <td>Belo Horizonte</td>\n",
       "    </tr>\n",
       "  </tbody>\n",
       "</table>\n",
       "</div>"
      ],
      "text/plain": [
       "   id_cliente nome_cliente          cidade\n",
       "0           1   João Souza  Rio de Janeiro\n",
       "1           2    Ana Costa       São Paulo\n",
       "2           3  Carlos Lima  Belo Horizonte"
      ]
     },
     "execution_count": 297,
     "metadata": {},
     "output_type": "execute_result"
    }
   ],
   "source": [
    "df_clientes"
   ]
  },
  {
   "cell_type": "code",
   "execution_count": 298,
   "metadata": {},
   "outputs": [
    {
     "data": {
      "text/html": [
       "<div>\n",
       "<style scoped>\n",
       "    .dataframe tbody tr th:only-of-type {\n",
       "        vertical-align: middle;\n",
       "    }\n",
       "\n",
       "    .dataframe tbody tr th {\n",
       "        vertical-align: top;\n",
       "    }\n",
       "\n",
       "    .dataframe thead th {\n",
       "        text-align: right;\n",
       "    }\n",
       "</style>\n",
       "<table border=\"1\" class=\"dataframe\">\n",
       "  <thead>\n",
       "    <tr style=\"text-align: right;\">\n",
       "      <th></th>\n",
       "      <th>id_cliente</th>\n",
       "      <th>nome_cliente</th>\n",
       "      <th>valor_total</th>\n",
       "    </tr>\n",
       "  </thead>\n",
       "  <tbody>\n",
       "    <tr>\n",
       "      <th>0</th>\n",
       "      <td>1</td>\n",
       "      <td>João Souza</td>\n",
       "      <td>330</td>\n",
       "    </tr>\n",
       "    <tr>\n",
       "      <th>1</th>\n",
       "      <td>2</td>\n",
       "      <td>Ana Costa</td>\n",
       "      <td>1120</td>\n",
       "    </tr>\n",
       "    <tr>\n",
       "      <th>2</th>\n",
       "      <td>3</td>\n",
       "      <td>Carlos Lima</td>\n",
       "      <td>500</td>\n",
       "    </tr>\n",
       "  </tbody>\n",
       "</table>\n",
       "</div>"
      ],
      "text/plain": [
       "   id_cliente nome_cliente  valor_total\n",
       "0           1   João Souza          330\n",
       "1           2    Ana Costa         1120\n",
       "2           3  Carlos Lima          500"
      ]
     },
     "execution_count": 298,
     "metadata": {},
     "output_type": "execute_result"
    }
   ],
   "source": [
    "df_master = pd.merge(df_vendas, df_clientes, on='id_cliente') # Vamos utilizar posteriormente para salvar os novos inputs\n",
    "\n",
    "# Optei por criar novos df ao invés de simplesmente filtrar para ser possível adicionar novas informações (próximo item)\n",
    "df_total_cliente = df_master.groupby(['id_cliente', 'nome_cliente'])['valor_total'].sum().reset_index()\n",
    "df_total_cliente"
   ]
  },
  {
   "cell_type": "code",
   "execution_count": 299,
   "metadata": {},
   "outputs": [],
   "source": [
    "class Cliente:\n",
    "    def __init__(self, id_cliente=None, nome_cliente=None, cidade=None):\n",
    "        self.id_cliente = id_cliente\n",
    "        self.nome_cliente = nome_cliente\n",
    "        self.cidade = cidade\n",
    "\n",
    "    def registrar_venda(self, df_master):\n",
    "        # Pedindo o ID do cliente via input\n",
    "        self.id_cliente = int(input(\"Digite o ID do cliente: \"))\n",
    "\n",
    "        # Verifica se o cliente já existe no DataFrame\n",
    "        if self.id_cliente in df_master['id_cliente'].values:\n",
    "            print(\"Cliente encontrado! Insira os detalhes da nova venda.\")\n",
    "            # Para clientes existentes, pede apenas valor da compra e data\n",
    "            valor_compra = float(input(\"Digite o valor da nova compra: \"))\n",
    "            data_venda = input(\"Digite a data da venda (formato YYYY-MM-DD): \")\n",
    "            self.nome_cliente = df_master.loc[df_master['id_cliente'] == self.id_cliente, 'nome_cliente'].values[0]\n",
    "            self.cidade = df_master.loc[df_master['id_cliente'] == self.id_cliente, 'cidade'].values[0]\n",
    "        else:\n",
    "            print(\"Novo cliente! Por favor, insira as informações do cliente.\")\n",
    "            # Para novos clientes, pede nome, cidade, valor da compra e data\n",
    "            self.nome_cliente = input(\"Digite o nome do cliente: \")\n",
    "            self.cidade = input(\"Digite a cidade do cliente: \")\n",
    "            valor_compra = float(input(\"Digite o valor da primeira compra: \"))\n",
    "            data_venda = input(\"Digite a data da venda (formato YYYY-MM-DD): \")\n",
    "\n",
    "        # Adiciona a venda ao df_master\n",
    "        df_master = self.adicionar_venda(df_master, valor_compra, data_venda)\n",
    "\n",
    "        return df_master\n",
    "\n",
    "    def adicionar_venda(self, df_master, valor_compra, data_venda):\n",
    "        # Gera o novo id_venda com base no último id_venda do DataFrame\n",
    "        if len(df_master) > 0:\n",
    "            novo_id_venda = df_master['id_venda'].max() + 1\n",
    "        else:\n",
    "            novo_id_venda = 1\n",
    "\n",
    "        # Verifica se o cliente já existe no df_master\n",
    "        if self.id_cliente in df_master['id_cliente'].values:\n",
    "            # Cliente existente: Adiciona apenas a nova compra\n",
    "            nova_venda = pd.DataFrame({\n",
    "                'id_venda': [novo_id_venda],\n",
    "                'id_cliente': [self.id_cliente],\n",
    "                'data_venda': [data_venda],\n",
    "                'valor_total': [valor_compra],\n",
    "                'nome_cliente': [self.nome_cliente],  # Nome já existente\n",
    "                'cidade': [self.cidade]  # Cidade já existente\n",
    "            })\n",
    "        else:\n",
    "            # Novo cliente: Adiciona todos os dados relevantes\n",
    "            nova_venda = pd.DataFrame({\n",
    "                'id_venda': [novo_id_venda],\n",
    "                'id_cliente': [self.id_cliente],\n",
    "                'data_venda': [data_venda],\n",
    "                'valor_total': [valor_compra],\n",
    "                'nome_cliente': [self.nome_cliente],\n",
    "                'cidade': [self.cidade]\n",
    "            })\n",
    "\n",
    "        # Concatena a nova venda ao df_master\n",
    "        df_master = pd.concat([df_master, nova_venda], ignore_index=True)\n",
    "        return df_master\n",
    "\n",
    "    def exibir_saldo(self, df_total_cliente):\n",
    "        # Busca o saldo atualizado do cliente e o nome do cliente a partir do DataFrame\n",
    "        if self.id_cliente in df_total_cliente['id_cliente'].values:\n",
    "            saldo = df_total_cliente.loc[df_total_cliente['id_cliente'] == self.id_cliente, 'valor_total'].values[0]\n",
    "            nome_cliente = df_total_cliente.loc[df_total_cliente['id_cliente'] == self.id_cliente, 'nome_cliente'].values[0]\n",
    "            print(f\"Cliente {nome_cliente} (ID: {self.id_cliente}) tem um saldo de: R$ {saldo}\")\n",
    "        else:\n",
    "            print(f\"Cliente (ID: {self.id_cliente}) não encontrado.\")"
   ]
  },
  {
   "cell_type": "code",
   "execution_count": 300,
   "metadata": {},
   "outputs": [
    {
     "name": "stdout",
     "output_type": "stream",
     "text": [
      "Cliente encontrado! Insira os detalhes da nova venda.\n"
     ]
    }
   ],
   "source": [
    "# Criando uma instância de Cliente e registrando a venda\n",
    "cliente = Cliente()\n",
    "df_master = cliente.registrar_venda(df_master)\n",
    "\n",
    "# Atualizando df_total_cliente\n",
    "df_total_cliente = df_master.groupby(['id_cliente', 'nome_cliente'])['valor_total'].sum().reset_index()\n",
    "\n",
    "# Exibindo o saldo do cliente\n",
    "cliente.exibir_saldo(df_total_cliente)"
   ]
  },
  {
   "cell_type": "code",
   "execution_count": 304,
   "metadata": {},
   "outputs": [
    {
     "name": "stdout",
     "output_type": "stream",
     "text": [
      "Novo cliente! Por favor, insira as informações do cliente.\n",
      "Cliente Otávio Assumpção (ID: 4) tem um saldo de: R$ 500.0\n"
     ]
    }
   ],
   "source": [
    "# Criando uma instância de Cliente e registrando a venda\n",
    "cliente = Cliente()\n",
    "df_master = cliente.registrar_venda(df_master)\n",
    "\n",
    "# Atualizando df_total_cliente\n",
    "df_total_cliente = df_master.groupby(['id_cliente', 'nome_cliente'])['valor_total'].sum().reset_index()\n",
    "\n",
    "# Exibindo o saldo do cliente\n",
    "cliente.exibir_saldo(df_total_cliente)"
   ]
  },
  {
   "cell_type": "code",
   "execution_count": 305,
   "metadata": {},
   "outputs": [
    {
     "data": {
      "text/html": [
       "<div>\n",
       "<style scoped>\n",
       "    .dataframe tbody tr th:only-of-type {\n",
       "        vertical-align: middle;\n",
       "    }\n",
       "\n",
       "    .dataframe tbody tr th {\n",
       "        vertical-align: top;\n",
       "    }\n",
       "\n",
       "    .dataframe thead th {\n",
       "        text-align: right;\n",
       "    }\n",
       "</style>\n",
       "<table border=\"1\" class=\"dataframe\">\n",
       "  <thead>\n",
       "    <tr style=\"text-align: right;\">\n",
       "      <th></th>\n",
       "      <th>id_cliente</th>\n",
       "      <th>nome_cliente</th>\n",
       "      <th>valor_total</th>\n",
       "    </tr>\n",
       "  </thead>\n",
       "  <tbody>\n",
       "    <tr>\n",
       "      <th>0</th>\n",
       "      <td>1</td>\n",
       "      <td>João Souza</td>\n",
       "      <td>630.0</td>\n",
       "    </tr>\n",
       "    <tr>\n",
       "      <th>1</th>\n",
       "      <td>2</td>\n",
       "      <td>Ana Costa</td>\n",
       "      <td>1120.0</td>\n",
       "    </tr>\n",
       "    <tr>\n",
       "      <th>2</th>\n",
       "      <td>3</td>\n",
       "      <td>Carlos Lima</td>\n",
       "      <td>500.0</td>\n",
       "    </tr>\n",
       "    <tr>\n",
       "      <th>3</th>\n",
       "      <td>4</td>\n",
       "      <td>Otávio Assumpção</td>\n",
       "      <td>500.0</td>\n",
       "    </tr>\n",
       "  </tbody>\n",
       "</table>\n",
       "</div>"
      ],
      "text/plain": [
       "   id_cliente      nome_cliente  valor_total\n",
       "0           1        João Souza        630.0\n",
       "1           2         Ana Costa       1120.0\n",
       "2           3       Carlos Lima        500.0\n",
       "3           4  Otávio Assumpção        500.0"
      ]
     },
     "execution_count": 305,
     "metadata": {},
     "output_type": "execute_result"
    }
   ],
   "source": [
    "df_total_cliente"
   ]
  },
  {
   "cell_type": "code",
   "execution_count": 306,
   "metadata": {},
   "outputs": [
    {
     "data": {
      "text/html": [
       "<div>\n",
       "<style scoped>\n",
       "    .dataframe tbody tr th:only-of-type {\n",
       "        vertical-align: middle;\n",
       "    }\n",
       "\n",
       "    .dataframe tbody tr th {\n",
       "        vertical-align: top;\n",
       "    }\n",
       "\n",
       "    .dataframe thead th {\n",
       "        text-align: right;\n",
       "    }\n",
       "</style>\n",
       "<table border=\"1\" class=\"dataframe\">\n",
       "  <thead>\n",
       "    <tr style=\"text-align: right;\">\n",
       "      <th></th>\n",
       "      <th>id_venda</th>\n",
       "      <th>id_cliente</th>\n",
       "      <th>data_venda</th>\n",
       "      <th>valor_total</th>\n",
       "      <th>nome_cliente</th>\n",
       "      <th>cidade</th>\n",
       "    </tr>\n",
       "  </thead>\n",
       "  <tbody>\n",
       "    <tr>\n",
       "      <th>0</th>\n",
       "      <td>1</td>\n",
       "      <td>1</td>\n",
       "      <td>2023-05-10</td>\n",
       "      <td>200.0</td>\n",
       "      <td>João Souza</td>\n",
       "      <td>Rio de Janeiro</td>\n",
       "    </tr>\n",
       "    <tr>\n",
       "      <th>1</th>\n",
       "      <td>2</td>\n",
       "      <td>2</td>\n",
       "      <td>2023-06-12</td>\n",
       "      <td>450.0</td>\n",
       "      <td>Ana Costa</td>\n",
       "      <td>São Paulo</td>\n",
       "    </tr>\n",
       "    <tr>\n",
       "      <th>2</th>\n",
       "      <td>3</td>\n",
       "      <td>1</td>\n",
       "      <td>2023-07-22</td>\n",
       "      <td>130.0</td>\n",
       "      <td>João Souza</td>\n",
       "      <td>Rio de Janeiro</td>\n",
       "    </tr>\n",
       "    <tr>\n",
       "      <th>3</th>\n",
       "      <td>4</td>\n",
       "      <td>3</td>\n",
       "      <td>2023-08-15</td>\n",
       "      <td>500.0</td>\n",
       "      <td>Carlos Lima</td>\n",
       "      <td>Belo Horizonte</td>\n",
       "    </tr>\n",
       "    <tr>\n",
       "      <th>4</th>\n",
       "      <td>5</td>\n",
       "      <td>2</td>\n",
       "      <td>2023-09-05</td>\n",
       "      <td>670.0</td>\n",
       "      <td>Ana Costa</td>\n",
       "      <td>São Paulo</td>\n",
       "    </tr>\n",
       "    <tr>\n",
       "      <th>5</th>\n",
       "      <td>6</td>\n",
       "      <td>1</td>\n",
       "      <td>2020-12-28</td>\n",
       "      <td>300.0</td>\n",
       "      <td>João Souza</td>\n",
       "      <td>Rio de Janeiro</td>\n",
       "    </tr>\n",
       "    <tr>\n",
       "      <th>6</th>\n",
       "      <td>7</td>\n",
       "      <td>4</td>\n",
       "      <td>2023-15-04</td>\n",
       "      <td>500.0</td>\n",
       "      <td>Otávio Assumpção</td>\n",
       "      <td>Campo Grande</td>\n",
       "    </tr>\n",
       "  </tbody>\n",
       "</table>\n",
       "</div>"
      ],
      "text/plain": [
       "   id_venda  id_cliente  data_venda  valor_total      nome_cliente  \\\n",
       "0         1           1  2023-05-10        200.0        João Souza   \n",
       "1         2           2  2023-06-12        450.0         Ana Costa   \n",
       "2         3           1  2023-07-22        130.0        João Souza   \n",
       "3         4           3  2023-08-15        500.0       Carlos Lima   \n",
       "4         5           2  2023-09-05        670.0         Ana Costa   \n",
       "5         6           1  2020-12-28        300.0        João Souza   \n",
       "6         7           4  2023-15-04        500.0  Otávio Assumpção   \n",
       "\n",
       "           cidade  \n",
       "0  Rio de Janeiro  \n",
       "1       São Paulo  \n",
       "2  Rio de Janeiro  \n",
       "3  Belo Horizonte  \n",
       "4       São Paulo  \n",
       "5  Rio de Janeiro  \n",
       "6    Campo Grande  "
      ]
     },
     "execution_count": 306,
     "metadata": {},
     "output_type": "execute_result"
    }
   ],
   "source": [
    "df_master"
   ]
  },
  {
   "cell_type": "code",
   "execution_count": 307,
   "metadata": {},
   "outputs": [
    {
     "name": "stdout",
     "output_type": "stream",
     "text": [
      "A média das vendas é: R$ 392.86\n"
     ]
    }
   ],
   "source": [
    "def calcular_media(lista_valores):\n",
    "    soma = 0\n",
    "    # Iterando sobre a lista e somando os valores\n",
    "    for valor in lista_valores:\n",
    "        soma += valor\n",
    "    # Calculando a média\n",
    "    media = soma / len(lista_valores)\n",
    "    return media\n",
    "\n",
    "# Exemplo de uso com df_master['valor_total']\n",
    "valores_vendas = df_master['valor_total'].tolist()\n",
    "\n",
    "# Chamando a função para calcular a média\n",
    "media_vendas = calcular_media(valores_vendas)\n",
    "\n",
    "# Exibindo o resultado\n",
    "print(f\"A média das vendas é: R$ {media_vendas:.2f}\")"
   ]
  },
  {
   "cell_type": "code",
   "execution_count": 313,
   "metadata": {},
   "outputs": [
    {
     "name": "stdout",
     "output_type": "stream",
     "text": [
      "O fatorial de 4.0 é 24.0\n"
     ]
    }
   ],
   "source": [
    "def fatorial(n):\n",
    "    # Caso base: o fatorial de 0 ou 1 é 1\n",
    "    if n == 0 or n == 1:\n",
    "        return 1\n",
    "    else:\n",
    "        # Chamada recursiva: n * fatorial(n-1)\n",
    "        return n * fatorial(n - 1)\n",
    "\n",
    "# Exemplo de uso\n",
    "numero = float(input('Numero: '))\n",
    "resultado = fatorial(numero)\n",
    "print(f\"O fatorial de {numero} é {resultado}\")"
   ]
  }
 ],
 "metadata": {
  "kernelspec": {
   "display_name": "venv",
   "language": "python",
   "name": "python3"
  },
  "language_info": {
   "codemirror_mode": {
    "name": "ipython",
    "version": 3
   },
   "file_extension": ".py",
   "mimetype": "text/x-python",
   "name": "python",
   "nbconvert_exporter": "python",
   "pygments_lexer": "ipython3",
   "version": "3.12.0"
  }
 },
 "nbformat": 4,
 "nbformat_minor": 2
}
